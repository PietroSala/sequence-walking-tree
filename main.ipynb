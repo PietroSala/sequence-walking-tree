{
 "cells": [
  {
   "cell_type": "code",
   "execution_count": 1,
   "metadata": {},
   "outputs": [],
   "source": [
    "%run sources/slicer.py\n",
    "%run sources/time_series_to_intervals.py\n",
    "%run sources/time_series_event_merge.py"
   ]
  },
  {
   "cell_type": "code",
   "execution_count": 2,
   "metadata": {},
   "outputs": [
    {
     "name": "stderr",
     "output_type": "stream",
     "text": [
      "100%|██████████| 149/149 [00:00<00:00, 14848.33it/s]\n",
      "100%|██████████| 149/149 [00:05<00:00, 25.51it/s]\n",
      "100%|██████████| 149/149 [00:00<00:00, 17599.80it/s]\n",
      "100%|██████████| 149/149 [00:05<00:00, 25.20it/s]\n",
      "100%|██████████| 149/149 [00:00<00:00, 12675.47it/s]\n",
      "100%|██████████| 149/149 [00:05<00:00, 25.26it/s]\n",
      "100%|██████████| 149/149 [00:00<00:00, 17063.52it/s]\n",
      "100%|██████████| 149/149 [00:05<00:00, 25.87it/s]\n",
      "100%|██████████| 149/149 [00:00<00:00, 18188.34it/s]\n",
      "100%|██████████| 149/149 [00:00<00:00, 1188.89it/s]\n",
      "100%|██████████| 149/149 [00:00<00:00, 18923.01it/s]\n",
      "100%|██████████| 149/149 [00:00<00:00, 1115.92it/s]\n",
      "100%|██████████| 149/149 [00:00<00:00, 18849.38it/s]\n",
      "100%|██████████| 149/149 [00:00<00:00, 1139.73it/s]\n"
     ]
    }
   ],
   "source": [
    "main_value = \"p01\"\n",
    "main_feature = \"participant\"\n",
    "time_feature = \"vt\"\n",
    "\n",
    "timeseries_df_list = {\"paths\": [\"processed_data/fitbit/calories.csv\",\n",
    "                                \"processed_data/fitbit/distance.csv\",\n",
    "                                \"processed_data/fitbit/steps.csv\",\n",
    "                                \"processed_data/fitbit/heart_rate.csv\"],\n",
    "                       \"group_features\": [\"calories\", \"distance\", \"steps\", \"bpm\"],\n",
    "                       \"bucket_values\": [[1.16, 1.32, 1.59], [1236], [15.9], [51, 63, 76]]}\n",
    "\n",
    "event_df_list = {\"paths\": [\"processed_data/fitbit/exercise.csv\",\n",
    "                            \"processed_data/fitbit/sleep_score.csv\",\n",
    "                            \"processed_data/fitbit/sleep.csv\"],\n",
    "                  \"group_features\": [\"Activity\", \"label\", \"sleep_phase\"],\n",
    "                  \"value_feature\": [\"value\", \"value\", \"value\"]}\n",
    "\n",
    "slicer_params = {\"stride\": 24, \"ow\": 20, \"ww\": 4, \"pw\": 48, \"granularity\": \"hours\"}\n",
    "\n",
    "final_odf, final_pdf = samples_from_dataset(main_value, main_feature, time_feature, timeseries_df_list, event_df_list, slicer_params)"
   ]
  },
  {
   "cell_type": "code",
   "execution_count": 9,
   "metadata": {},
   "outputs": [],
   "source": [
    "def sleep_score_from_prediction_window(dfs):\n",
    "    r =[]\n",
    "    for df in final_pdf[\"label\"]:\n",
    "        scs = df.to_dict(orient=\"records\")\n",
    "        scs.sort(key=lambda x: x['vt'])\n",
    "        r.append(scs[0]['value'])    \n",
    "    return pd.DataFrame({'SleepScore':r})"
   ]
  },
  {
   "cell_type": "code",
   "execution_count": 12,
   "metadata": {},
   "outputs": [
    {
     "data": {
      "text/html": [
       "<div>\n",
       "<style scoped>\n",
       "    .dataframe tbody tr th:only-of-type {\n",
       "        vertical-align: middle;\n",
       "    }\n",
       "\n",
       "    .dataframe tbody tr th {\n",
       "        vertical-align: top;\n",
       "    }\n",
       "\n",
       "    .dataframe thead th {\n",
       "        text-align: right;\n",
       "    }\n",
       "</style>\n",
       "<table border=\"1\" class=\"dataframe\">\n",
       "  <thead>\n",
       "    <tr style=\"text-align: right;\">\n",
       "      <th></th>\n",
       "      <th>SleepScore</th>\n",
       "    </tr>\n",
       "  </thead>\n",
       "  <tbody>\n",
       "    <tr>\n",
       "      <th>count</th>\n",
       "      <td>149.000000</td>\n",
       "    </tr>\n",
       "    <tr>\n",
       "      <th>mean</th>\n",
       "      <td>71.510067</td>\n",
       "    </tr>\n",
       "    <tr>\n",
       "      <th>std</th>\n",
       "      <td>5.651617</td>\n",
       "    </tr>\n",
       "    <tr>\n",
       "      <th>min</th>\n",
       "      <td>53.000000</td>\n",
       "    </tr>\n",
       "    <tr>\n",
       "      <th>25%</th>\n",
       "      <td>68.000000</td>\n",
       "    </tr>\n",
       "    <tr>\n",
       "      <th>50%</th>\n",
       "      <td>72.000000</td>\n",
       "    </tr>\n",
       "    <tr>\n",
       "      <th>75%</th>\n",
       "      <td>75.000000</td>\n",
       "    </tr>\n",
       "    <tr>\n",
       "      <th>max</th>\n",
       "      <td>88.000000</td>\n",
       "    </tr>\n",
       "  </tbody>\n",
       "</table>\n",
       "</div>"
      ],
      "text/plain": [
       "       SleepScore\n",
       "count  149.000000\n",
       "mean    71.510067\n",
       "std      5.651617\n",
       "min     53.000000\n",
       "25%     68.000000\n",
       "50%     72.000000\n",
       "75%     75.000000\n",
       "max     88.000000"
      ]
     },
     "execution_count": 12,
     "metadata": {},
     "output_type": "execute_result"
    }
   ],
   "source": [
    "scores = sleep_score_from_prediction_window(final_pdf)\n",
    "scores.describe()"
   ]
  },
  {
   "cell_type": "code",
   "execution_count": 18,
   "metadata": {},
   "outputs": [],
   "source": [
    "def score_buckets(s, buckets):\n",
    "    for i in range(len(buckets)):\n",
    "        if s <= buckets[i]:\n",
    "            if i == 0 or s > buckets[i-1]:\n",
    "                return i \n",
    "    return len(buckets)    \n",
    "\n",
    "\n",
    "scores[\"class\"] = scores.SleepScore.apply(lambda x: score_buckets(x,[68,72,75]))"
   ]
  },
  {
   "cell_type": "code",
   "execution_count": 19,
   "metadata": {},
   "outputs": [
    {
     "data": {
      "text/html": [
       "<div>\n",
       "<style scoped>\n",
       "    .dataframe tbody tr th:only-of-type {\n",
       "        vertical-align: middle;\n",
       "    }\n",
       "\n",
       "    .dataframe tbody tr th {\n",
       "        vertical-align: top;\n",
       "    }\n",
       "\n",
       "    .dataframe thead th {\n",
       "        text-align: right;\n",
       "    }\n",
       "</style>\n",
       "<table border=\"1\" class=\"dataframe\">\n",
       "  <thead>\n",
       "    <tr style=\"text-align: right;\">\n",
       "      <th></th>\n",
       "      <th>SleepScore</th>\n",
       "      <th>class</th>\n",
       "    </tr>\n",
       "  </thead>\n",
       "  <tbody>\n",
       "    <tr>\n",
       "      <th>0</th>\n",
       "      <td>79</td>\n",
       "      <td>3</td>\n",
       "    </tr>\n",
       "    <tr>\n",
       "      <th>1</th>\n",
       "      <td>71</td>\n",
       "      <td>1</td>\n",
       "    </tr>\n",
       "    <tr>\n",
       "      <th>2</th>\n",
       "      <td>68</td>\n",
       "      <td>0</td>\n",
       "    </tr>\n",
       "    <tr>\n",
       "      <th>3</th>\n",
       "      <td>73</td>\n",
       "      <td>2</td>\n",
       "    </tr>\n",
       "    <tr>\n",
       "      <th>4</th>\n",
       "      <td>67</td>\n",
       "      <td>0</td>\n",
       "    </tr>\n",
       "    <tr>\n",
       "      <th>...</th>\n",
       "      <td>...</td>\n",
       "      <td>...</td>\n",
       "    </tr>\n",
       "    <tr>\n",
       "      <th>144</th>\n",
       "      <td>71</td>\n",
       "      <td>1</td>\n",
       "    </tr>\n",
       "    <tr>\n",
       "      <th>145</th>\n",
       "      <td>76</td>\n",
       "      <td>3</td>\n",
       "    </tr>\n",
       "    <tr>\n",
       "      <th>146</th>\n",
       "      <td>72</td>\n",
       "      <td>1</td>\n",
       "    </tr>\n",
       "    <tr>\n",
       "      <th>147</th>\n",
       "      <td>67</td>\n",
       "      <td>0</td>\n",
       "    </tr>\n",
       "    <tr>\n",
       "      <th>148</th>\n",
       "      <td>62</td>\n",
       "      <td>0</td>\n",
       "    </tr>\n",
       "  </tbody>\n",
       "</table>\n",
       "<p>149 rows × 2 columns</p>\n",
       "</div>"
      ],
      "text/plain": [
       "     SleepScore  class\n",
       "0            79      3\n",
       "1            71      1\n",
       "2            68      0\n",
       "3            73      2\n",
       "4            67      0\n",
       "..          ...    ...\n",
       "144          71      1\n",
       "145          76      3\n",
       "146          72      1\n",
       "147          67      0\n",
       "148          62      0\n",
       "\n",
       "[149 rows x 2 columns]"
      ]
     },
     "execution_count": 19,
     "metadata": {},
     "output_type": "execute_result"
    }
   ],
   "source": [
    "scores"
   ]
  },
  {
   "cell_type": "code",
   "execution_count": null,
   "metadata": {},
   "outputs": [],
   "source": []
  }
 ],
 "metadata": {
  "kernelspec": {
   "display_name": "base",
   "language": "python",
   "name": "python3"
  },
  "language_info": {
   "codemirror_mode": {
    "name": "ipython",
    "version": 3
   },
   "file_extension": ".py",
   "mimetype": "text/x-python",
   "name": "python",
   "nbconvert_exporter": "python",
   "pygments_lexer": "ipython3",
   "version": "3.10.8"
  }
 },
 "nbformat": 4,
 "nbformat_minor": 2
}
