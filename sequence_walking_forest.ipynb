{
 "cells": [
  {
   "cell_type": "code",
   "execution_count": null,
   "metadata": {},
   "outputs": [],
   "source": [
    "%run sources/sequence_dataset.py\n",
    "%run sources/sequence_walking_tree.py\n",
    "\n",
    "from random import choice\n",
    "\n",
    "SAMPLES = 20"
   ]
  },
  {
   "cell_type": "code",
   "execution_count": null,
   "metadata": {},
   "outputs": [],
   "source": [
    "def read_event_logs(csv_path):\n",
    "    r = pd.read_csv(csv_path)\n",
    "    return list(r[\"sequence\"].apply(lambda x: eval(x) )), list(r[\"class\"])\n",
    "\n",
    "X,Y = read_event_logs(\"datasets/20240124_1525_fitbit_p02_quartiles.csv\")\n",
    "\n",
    "Z = SequenceDataset()\n",
    "Z.fit(X[:SAMPLES],Y[:SAMPLES])"
   ]
  },
  {
   "cell_type": "code",
   "execution_count": null,
   "metadata": {},
   "outputs": [],
   "source": [
    "class SequenceWalkingForest():\n",
    "\n",
    "    def __init__(self, number_of_trees = 10, tree_parameters = {}):\n",
    "        self.number_of_trees = number_of_trees\n",
    "        self.tree_parameters = tree_parameters\n",
    "        self.trees        = []\n",
    "        self.tree_weights = []\n",
    "        self.tree_confusion_matrices = []\n",
    "\n",
    "    def fit(self, z, weight_index = 0):\n",
    "        z_size = len(z.raw_x)\n",
    "        id_set = {i for i in range(z_size)}.difference({ i for i,_ in  z.excluded_positions(weight_index) })\n",
    "        id_list = list(id_set)\n",
    "        train_size = len(id_set)\n",
    "        id_series = [ i in id_set for i in range(z_size)  ]                                                     \n",
    "        for i in range(self.number_of_trees):\n",
    "            train_index = - (2*i + 1)\n",
    "            score_index = - (2*i + 2)\n",
    "            prediction_index =  - i\n",
    "            z.sample_df[train_index] = 0\n",
    "            z.sample_df[score_index] = 1\n",
    "            z.add_prediction_dataframe(prediction_index)\n",
    "            for _ in range(train_size):\n",
    "                j = choice(id_list)\n",
    "                z.sample_df.loc[j, train_index] = z.sample_df.loc[j, train_index] + 1\n",
    "                z.sample_df.loc[j, score_index] = 0\n",
    "            self.trees.append(self.fit_tree(z, train_index, score_index))\n",
    "\n",
    "    def fit_tree(self, z, train_index, score_index):\n",
    "        r = SequenceWalkingTree(**self.tree_parameters)\n",
    "        r.fit(z, train_index)\n",
    "        z.add_prediction_dataframe(score_index)\n",
    "        r.predict(z, score_index)\n",
    "        return r\n",
    "    \n",
    "        \n",
    "\n",
    "\n",
    "\n",
    "            \n",
    "                \n"
   ]
  },
  {
   "cell_type": "code",
   "execution_count": null,
   "metadata": {},
   "outputs": [],
   "source": [
    "Z.sample_df.loc[15:,0 ] = 0"
   ]
  },
  {
   "cell_type": "code",
   "execution_count": null,
   "metadata": {},
   "outputs": [],
   "source": [
    "F = SequenceWalkingForest()\n",
    "F.fit(Z)"
   ]
  },
  {
   "cell_type": "code",
   "execution_count": null,
   "metadata": {},
   "outputs": [],
   "source": [
    "from networkx.drawing.nx_pydot import to_pydot\n",
    "from IPython.display import Image, display\n",
    "import networkx as nx\n",
    "\n",
    "def generate_tree(g, t, k=0):\n",
    "    newline = \"\\n\"\n",
    "    g.add_node(k, label=f'{t[\"test_type\"] if \"test_type\" in t else \"\"}{t[\"test\"] if \"test\" in t else \"\"}{newline + \"true_samples - \"+str(t[\"true_samples\"])+ \" \" if \"true_samples\" in t else \"\" }{newline+\"false_samples - \"+str(t[\"false_samples\"]) if \"false_samples\" in t else \"\" }{newline+str(t[\"probabilities\"])}'  )\n",
    "    next_k = k + 1\n",
    "    for key in [True, False]:\n",
    "        if key in t:\n",
    "            current_k, next_k = generate_tree(g, t[key], next_k)\n",
    "            g.add_edge(k, current_k, label= f'{key}')\n",
    "    return k, next_k\n",
    "\n",
    "for i,t in enumerate(F.trees):\n",
    "    G = nx.DiGraph()\n",
    "    generate_tree(G,t.tree)\n",
    "    pydot_graph = to_pydot(G)\n",
    "    dot_file_path = f\"tree{i}.dot\"\n",
    "    pydot_graph.write_dot(dot_file_path)\n",
    "    !dot -Tpng tree{i}.dot -o tree{i}.png\n",
    "    #display(Image(f\"tree{i}.png\"))\n",
    "\n"
   ]
  },
  {
   "cell_type": "code",
   "execution_count": null,
   "metadata": {},
   "outputs": [],
   "source": [
    "Z.predictions"
   ]
  },
  {
   "cell_type": "code",
   "execution_count": null,
   "metadata": {},
   "outputs": [],
   "source": []
  }
 ],
 "metadata": {
  "kernelspec": {
   "display_name": "base",
   "language": "python",
   "name": "python3"
  },
  "language_info": {
   "codemirror_mode": {
    "name": "ipython",
    "version": 3
   },
   "file_extension": ".py",
   "mimetype": "text/x-python",
   "name": "python",
   "nbconvert_exporter": "python",
   "pygments_lexer": "ipython3",
   "version": "3.10.8"
  }
 },
 "nbformat": 4,
 "nbformat_minor": 2
}
