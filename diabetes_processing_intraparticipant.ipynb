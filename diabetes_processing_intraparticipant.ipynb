{
 "cells": [
  {
   "cell_type": "code",
   "execution_count": 40,
   "metadata": {},
   "outputs": [],
   "source": [
    "%run sources/slicer.py\n",
    "%run sources/time_series_to_intervals.py\n",
    "%run sources/time_series_event_merge.py\n",
    "\n",
    "main_value = 1 #variable\n",
    "main_feature = \"patient\"\n"
   ]
  },
  {
   "cell_type": "code",
   "execution_count": 41,
   "metadata": {},
   "outputs": [
    {
     "data": {
      "text/plain": [
       "{'Hypoglycemic symptoms',\n",
       " 'Less-than-usual exercise activity',\n",
       " 'Less-than-usual meal ingestion',\n",
       " 'More-than-usual exercise activity',\n",
       " 'More-than-usual meal ingestion',\n",
       " 'NPH insulin dose',\n",
       " 'Post-breakfast blood glucose measurement',\n",
       " 'Post-lunch blood glucose measurement',\n",
       " 'Post-supper blood glucose measurement',\n",
       " 'Pre-breakfast blood glucose measurement',\n",
       " 'Pre-lunch blood glucose measurement',\n",
       " 'Pre-snack blood glucose measurement',\n",
       " 'Pre-supper blood glucose measurement',\n",
       " 'Regular insulin dose',\n",
       " 'Typical exercise activity',\n",
       " 'Typical meal ingestion',\n",
       " 'UltraLente insulin dose',\n",
       " 'Unspecified blood glucose measurement',\n",
       " 'Unspecified special event'}"
      ]
     },
     "execution_count": 41,
     "metadata": {},
     "output_type": "execute_result"
    }
   ],
   "source": [
    "feature = \"distance\"\n",
    "p = pd.read_csv(f\"processed_data/diabetes/diabetes_all_clean.csv\")\n",
    "set(p[\"label\"])"
   ]
  },
  {
   "cell_type": "code",
   "execution_count": 42,
   "metadata": {},
   "outputs": [
    {
     "name": "stderr",
     "output_type": "stream",
     "text": [
      "100%|██████████| 268/268 [00:00<00:00, 28341.32it/s]\n",
      "100%|██████████| 268/268 [00:00<00:00, 1678.07it/s]\n"
     ]
    }
   ],
   "source": [
    "time_feature = \"vt\"\n",
    "\n",
    "timeseries_df_list = {\"paths\": [],\n",
    "                       \"group_features\": [],\n",
    "                       \"bucket_values\": []}\n",
    "\n",
    "event_df_list = {\"paths\": [\"processed_data/diabetes/diabetes_all_clean.csv\"],\n",
    "                  \"group_features\": [\"label\"],\n",
    "                  \"value_feature\": [\"value\"]}\n",
    "\n",
    "slicer_params = {\"stride\": 12, \"ow\": 12, \"ww\": 4, \"pw\": 12, \"granularity\": \"hours\"} #variable\n",
    "\n",
    "final_odf, final_pdf = samples_from_dataset(main_value, main_feature, time_feature, timeseries_df_list, event_df_list, slicer_params)"
   ]
  },
  {
   "cell_type": "code",
   "execution_count": 43,
   "metadata": {},
   "outputs": [
    {
     "data": {
      "text/html": [
       "<div>\n",
       "<style scoped>\n",
       "    .dataframe tbody tr th:only-of-type {\n",
       "        vertical-align: middle;\n",
       "    }\n",
       "\n",
       "    .dataframe tbody tr th {\n",
       "        vertical-align: top;\n",
       "    }\n",
       "\n",
       "    .dataframe thead th {\n",
       "        text-align: right;\n",
       "    }\n",
       "</style>\n",
       "<table border=\"1\" class=\"dataframe\">\n",
       "  <thead>\n",
       "    <tr style=\"text-align: right;\">\n",
       "      <th></th>\n",
       "      <th>index</th>\n",
       "      <th>patient</th>\n",
       "      <th>vt</th>\n",
       "      <th>minutes</th>\n",
       "      <th>code</th>\n",
       "      <th>label</th>\n",
       "      <th>value</th>\n",
       "      <th>i</th>\n",
       "    </tr>\n",
       "  </thead>\n",
       "  <tbody>\n",
       "    <tr>\n",
       "      <th>17</th>\n",
       "      <td>17</td>\n",
       "      <td>1</td>\n",
       "      <td>1991-04-24 07:52:00+00:00</td>\n",
       "      <td>4243</td>\n",
       "      <td>34</td>\n",
       "      <td>NPH insulin dose</td>\n",
       "      <td>14.0</td>\n",
       "      <td>4</td>\n",
       "    </tr>\n",
       "    <tr>\n",
       "      <th>18</th>\n",
       "      <td>18</td>\n",
       "      <td>1</td>\n",
       "      <td>1991-04-24 07:52:00+00:00</td>\n",
       "      <td>4243</td>\n",
       "      <td>58</td>\n",
       "      <td>Pre-breakfast blood glucose measurement</td>\n",
       "      <td>239.0</td>\n",
       "      <td>4</td>\n",
       "    </tr>\n",
       "    <tr>\n",
       "      <th>19</th>\n",
       "      <td>19</td>\n",
       "      <td>1</td>\n",
       "      <td>1991-04-24 07:52:00+00:00</td>\n",
       "      <td>4243</td>\n",
       "      <td>33</td>\n",
       "      <td>Regular insulin dose</td>\n",
       "      <td>10.0</td>\n",
       "      <td>4</td>\n",
       "    </tr>\n",
       "    <tr>\n",
       "      <th>20</th>\n",
       "      <td>20</td>\n",
       "      <td>1</td>\n",
       "      <td>1991-04-24 12:00:00+00:00</td>\n",
       "      <td>4491</td>\n",
       "      <td>33</td>\n",
       "      <td>Regular insulin dose</td>\n",
       "      <td>4.0</td>\n",
       "      <td>4</td>\n",
       "    </tr>\n",
       "  </tbody>\n",
       "</table>\n",
       "</div>"
      ],
      "text/plain": [
       "    index  patient                        vt  minutes  code  \\\n",
       "17     17        1 1991-04-24 07:52:00+00:00     4243    34   \n",
       "18     18        1 1991-04-24 07:52:00+00:00     4243    58   \n",
       "19     19        1 1991-04-24 07:52:00+00:00     4243    33   \n",
       "20     20        1 1991-04-24 12:00:00+00:00     4491    33   \n",
       "\n",
       "                                      label  value  i  \n",
       "17                         NPH insulin dose   14.0  4  \n",
       "18  Pre-breakfast blood glucose measurement  239.0  4  \n",
       "19                     Regular insulin dose   10.0  4  \n",
       "20                     Regular insulin dose    4.0  4  "
      ]
     },
     "execution_count": 43,
     "metadata": {},
     "output_type": "execute_result"
    }
   ],
   "source": [
    "final_pdf['label'][4]"
   ]
  },
  {
   "cell_type": "code",
   "execution_count": 44,
   "metadata": {},
   "outputs": [],
   "source": [
    "def hypoglicemia_from_prediction_window(dfs):\n",
    "    r, ids =[], []\n",
    "    for i, df in enumerate(dfs[\"label\"]):\n",
    "        ids.append(i)\n",
    "        if len(df) > 0 and \"Hypoglycemic symptoms\" in set(df[\"label\"]):\n",
    "            r.append(True) \n",
    "        else:\n",
    "            r.append(False)\n",
    "\n",
    "    return pd.DataFrame({'Hypoglycemia':r, 'i':ids})\n",
    "\n",
    "\n"
   ]
  },
  {
   "cell_type": "code",
   "execution_count": 45,
   "metadata": {},
   "outputs": [],
   "source": [
    "def df_to_sequences(df):\n",
    "    df[\"sequence\"] = df.apply(lambda row: (row['vt'], row['label'], row['value']), axis=1)\n",
    "    r =df.groupby(\"i\")[\"sequence\"].agg(list).reset_index()\n",
    "    for i in range(len(r)):\n",
    "        r.iloc[i][\"sequence\"].sort(key=lambda x: x[0])\n",
    "    return r\n",
    "\n",
    "Z = df_to_sequences(final_odf)"
   ]
  },
  {
   "cell_type": "code",
   "execution_count": 46,
   "metadata": {},
   "outputs": [],
   "source": [
    "CLASS_LABEL = \"Hypoglycemic symptoms\""
   ]
  },
  {
   "cell_type": "code",
   "execution_count": 52,
   "metadata": {},
   "outputs": [],
   "source": [
    "Z = Z[Z.apply(lambda x: CLASS_LABEL not in [y[1] for y in x.sequence], axis=1)]"
   ]
  },
  {
   "cell_type": "code",
   "execution_count": 53,
   "metadata": {},
   "outputs": [],
   "source": [
    "Z = pd.merge(Z, hypoglicemia_from_prediction_window(final_pdf), on='i', how='inner')"
   ]
  },
  {
   "cell_type": "code",
   "execution_count": 54,
   "metadata": {},
   "outputs": [
    {
     "data": {
      "text/plain": [
       "0.17703349282296652"
      ]
     },
     "execution_count": 54,
     "metadata": {},
     "output_type": "execute_result"
    }
   ],
   "source": [
    "Z.Hypoglycemia.mean()"
   ]
  },
  {
   "cell_type": "code",
   "execution_count": 55,
   "metadata": {},
   "outputs": [],
   "source": [
    "Z[\"class\"] = Z[\"Hypoglycemia\"]"
   ]
  },
  {
   "cell_type": "code",
   "execution_count": 56,
   "metadata": {},
   "outputs": [],
   "source": [
    "import json\n",
    "from datetime import datetime"
   ]
  },
  {
   "cell_type": "code",
   "execution_count": 57,
   "metadata": {},
   "outputs": [],
   "source": [
    "ZPARAMS = {\n",
    "    \"main_value\":main_value, \n",
    "    \"main_feature\":main_feature, \n",
    "    \"time_feature\":time_feature, \n",
    "    \"timeseries_df_list\":timeseries_df_list, \n",
    "    \"event_df_list\":event_df_list, \n",
    "    \"slicer_params\":slicer_params,\n",
    "    \"class\": \"Hypoglycemic symptoms\"\n",
    "}\n",
    "TIME = datetime.now().strftime('%Y%m%d_%H%M')\n",
    "ZNAME = f\"{TIME}_diabetes_{main_value}_removed\"\n"
   ]
  },
  {
   "cell_type": "code",
   "execution_count": 58,
   "metadata": {},
   "outputs": [],
   "source": [
    "Z[[\"sequence\", \"class\"]].to_csv(f\"datasets/{ZNAME}.csv\", index=False)\n",
    "with open(f\"datasets/{ZNAME}.json\", 'w') as json_file:\n",
    "    json.dump(ZPARAMS, json_file, indent=2)\n"
   ]
  },
  {
   "cell_type": "code",
   "execution_count": null,
   "metadata": {},
   "outputs": [],
   "source": []
  }
 ],
 "metadata": {
  "kernelspec": {
   "display_name": "base",
   "language": "python",
   "name": "python3"
  },
  "language_info": {
   "codemirror_mode": {
    "name": "ipython",
    "version": 3
   },
   "file_extension": ".py",
   "mimetype": "text/x-python",
   "name": "python",
   "nbconvert_exporter": "python",
   "pygments_lexer": "ipython3",
   "version": "3.11.5"
  }
 },
 "nbformat": 4,
 "nbformat_minor": 2
}
