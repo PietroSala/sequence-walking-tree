{
 "cells": [
  {
   "cell_type": "code",
   "execution_count": null,
   "metadata": {},
   "outputs": [],
   "source": [
    "%run sources/slicer.py\n",
    "%run sources/time_series_to_intervals.py\n",
    "%run sources/time_series_event_merge.py\n",
    "\n",
    "main_value = 1 #variable\n",
    "main_feature = \"patient\"\n"
   ]
  },
  {
   "cell_type": "code",
   "execution_count": null,
   "metadata": {},
   "outputs": [],
   "source": [
    "feature = \"distance\"\n",
    "p = pd.read_csv(f\"processed_data/diabetes/diabetes_all_clean.csv\")\n",
    "set(p[\"label\"])"
   ]
  },
  {
   "cell_type": "code",
   "execution_count": null,
   "metadata": {},
   "outputs": [],
   "source": [
    "time_feature = \"vt\"\n",
    "\n",
    "timeseries_df_list = {\"paths\": [],\n",
    "                       \"group_features\": [],\n",
    "                       \"bucket_values\": []}\n",
    "\n",
    "event_df_list = {\"paths\": [\"processed_data/diabetes/diabetes_all_clean.csv\"],\n",
    "                  \"group_features\": [\"label\"],\n",
    "                  \"value_feature\": [\"value\"]}\n",
    "\n",
    "slicer_params = {\"stride\": 12, \"ow\": 12, \"ww\": 4, \"pw\": 12, \"granularity\": \"hours\"} #variable\n",
    "\n",
    "final_odf, final_pdf = samples_from_dataset(main_value, main_feature, time_feature, timeseries_df_list, event_df_list, slicer_params)"
   ]
  },
  {
   "cell_type": "code",
   "execution_count": null,
   "metadata": {},
   "outputs": [],
   "source": [
    "final_pdf['label'][4]"
   ]
  },
  {
   "cell_type": "code",
   "execution_count": null,
   "metadata": {},
   "outputs": [],
   "source": [
    "def hypoglicemia_from_prediction_window(dfs):\n",
    "    r, ids =[], []\n",
    "    for i, df in enumerate(dfs[\"label\"]):\n",
    "        ids.append(i)\n",
    "        if len(df) > 0 and \"Hypoglycemic symptoms\" in set(df[\"label\"]):\n",
    "            r.append(True) \n",
    "        else:\n",
    "            r.append(False)\n",
    "\n",
    "    return pd.DataFrame({'Hypoglycemia':r, 'i':ids})\n",
    "\n",
    "\n"
   ]
  },
  {
   "cell_type": "code",
   "execution_count": null,
   "metadata": {},
   "outputs": [],
   "source": [
    "def df_to_sequences(df):\n",
    "    df[\"sequence\"] = df.apply(lambda row: (row['vt'], row['label'], row['value']), axis=1)\n",
    "    r =df.groupby(\"i\")[\"sequence\"].agg(list).reset_index()\n",
    "    for i in range(len(r)):\n",
    "        r.iloc[i][\"sequence\"].sort(key=lambda x: x[0])\n",
    "    return r\n",
    "\n",
    "Z = df_to_sequences(final_odf)"
   ]
  },
  {
   "cell_type": "code",
   "execution_count": null,
   "metadata": {},
   "outputs": [],
   "source": [
    "CLASS_LABEL = \"Hypoglycemic symptoms\""
   ]
  },
  {
   "cell_type": "code",
   "execution_count": null,
   "metadata": {},
   "outputs": [],
   "source": [
    "Z = Z[Z.apply(lambda x: CLASS_LABEL not in [y[1] for y in x.sequence], axis=1)]"
   ]
  },
  {
   "cell_type": "code",
   "execution_count": null,
   "metadata": {},
   "outputs": [],
   "source": [
    "Z = pd.merge(Z, hypoglicemia_from_prediction_window(final_pdf), on='i', how='inner')"
   ]
  },
  {
   "cell_type": "code",
   "execution_count": null,
   "metadata": {},
   "outputs": [],
   "source": [
    "Z.Hypoglycemia.mean()"
   ]
  },
  {
   "cell_type": "code",
   "execution_count": null,
   "metadata": {},
   "outputs": [],
   "source": [
    "Z[\"class\"] = Z[\"Hypoglycemia\"]"
   ]
  },
  {
   "cell_type": "code",
   "execution_count": null,
   "metadata": {},
   "outputs": [],
   "source": [
    "import json\n",
    "from datetime import datetime"
   ]
  },
  {
   "cell_type": "code",
   "execution_count": null,
   "metadata": {},
   "outputs": [],
   "source": [
    "ZPARAMS = {\n",
    "    \"main_value\":main_value, \n",
    "    \"main_feature\":main_feature, \n",
    "    \"time_feature\":time_feature, \n",
    "    \"timeseries_df_list\":timeseries_df_list, \n",
    "    \"event_df_list\":event_df_list, \n",
    "    \"slicer_params\":slicer_params,\n",
    "    \"class\": \"Hypoglycemic symptoms\"\n",
    "}\n",
    "TIME = datetime.now().strftime('%Y%m%d_%H%M')\n",
    "ZNAME = f\"{TIME}_diabetes_{main_value}_removed\"\n"
   ]
  },
  {
   "cell_type": "code",
   "execution_count": null,
   "metadata": {},
   "outputs": [],
   "source": [
    "Z[[\"sequence\", \"class\"]].to_csv(f\"datasets/{ZNAME}.csv\", index=False)\n",
    "with open(f\"datasets/{ZNAME}.json\", 'w') as json_file:\n",
    "    json.dump(ZPARAMS, json_file, indent=2)\n"
   ]
  },
  {
   "cell_type": "code",
   "execution_count": null,
   "metadata": {},
   "outputs": [],
   "source": []
  }
 ],
 "metadata": {
  "kernelspec": {
   "display_name": "base",
   "language": "python",
   "name": "python3"
  },
  "language_info": {
   "codemirror_mode": {
    "name": "ipython",
    "version": 3
   },
   "file_extension": ".py",
   "mimetype": "text/x-python",
   "name": "python",
   "nbconvert_exporter": "python",
   "pygments_lexer": "ipython3",
   "version": "3.11.5"
  }
 },
 "nbformat": 4,
 "nbformat_minor": 2
}
