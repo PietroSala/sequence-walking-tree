{
 "cells": [
  {
   "cell_type": "code",
   "execution_count": null,
   "metadata": {},
   "outputs": [],
   "source": [
    "%run sources/sequence_dataset.py\n",
    "%run sources/sequence_walking_tree.py"
   ]
  },
  {
   "cell_type": "code",
   "execution_count": null,
   "metadata": {},
   "outputs": [],
   "source": [
    "def read_event_logs(csv_path):\n",
    "    r = pd.read_csv(csv_path)\n",
    "    return list(r[\"sequence\"].apply(lambda x: eval(x) )), list(r[\"class\"])\n",
    "\n",
    "X,Y = read_event_logs(\"datasets/20240124_0525_fitbit_p01_quartiles.csv\")"
   ]
  },
  {
   "cell_type": "code",
   "execution_count": null,
   "metadata": {},
   "outputs": [],
   "source": [
    "Z = SequenceDataset()\n",
    "Z.fit(X,Y)"
   ]
  },
  {
   "cell_type": "code",
   "execution_count": null,
   "metadata": {},
   "outputs": [],
   "source": [
    "from math import log2\n",
    "mh = int(log2(Z.last_position_df.last_position.mean()))\n",
    "ms = int(log2(len(Z.raw_x)))\n",
    "mh,ms"
   ]
  },
  {
   "cell_type": "code",
   "execution_count": null,
   "metadata": {},
   "outputs": [],
   "source": [
    "C = SequenceWalkingTree(max_height=100, min_node_samples=0, alternate_if_possible=False, random_samples=100)\n",
    "t = C.fit(Z)"
   ]
  },
  {
   "cell_type": "code",
   "execution_count": null,
   "metadata": {},
   "outputs": [],
   "source": [
    "from networkx.drawing.nx_pydot import to_pydot\n",
    "from IPython.display import Image, display\n",
    "import networkx as nx\n",
    "\n",
    "\n",
    "def generate_tree(g, t, k=0):\n",
    "    newline = \"\\n\"\n",
    "    g.add_node(k, label=f'{t[\"test_type\"] if \"test_type\" in t else \"\"}{t[\"test\"] if \"test\" in t else \"\"}{newline + \"true_samples - \"+str(t[\"true_samples\"])+ \" \" if \"true_samples\" in t else \"\" }{newline+\"false_samples - \"+str(t[\"false_samples\"]) if \"false_samples\" in t else \"\" }{newline+str(t[\"probabilities\"])}'  )\n",
    "    next_k = k + 1\n",
    "    for key in [True, False]:\n",
    "        if key in t:\n",
    "            current_k, next_k = generate_tree(g, t[key], next_k)\n",
    "            g.add_edge(k, current_k, label= f'{key}')\n",
    "    return k, next_k\n",
    "\n",
    "G = nx.DiGraph()\n",
    "\n",
    "generate_tree(G,C.tree)\n",
    "\n",
    "pydot_graph = to_pydot(G)\n",
    "dot_file_path = \"tree.dot\"\n",
    "pydot_graph.write_dot(dot_file_path)\n",
    "\n",
    "!dot -Tpng tree.dot -o tree.png\n",
    "\n",
    "display(Image(\"tree.png\"))"
   ]
  },
  {
   "cell_type": "code",
   "execution_count": null,
   "metadata": {},
   "outputs": [],
   "source": []
  }
 ],
 "metadata": {
  "kernelspec": {
   "display_name": "base",
   "language": "python",
   "name": "python3"
  },
  "language_info": {
   "codemirror_mode": {
    "name": "ipython",
    "version": 3
   },
   "file_extension": ".py",
   "mimetype": "text/x-python",
   "name": "python",
   "nbconvert_exporter": "python",
   "pygments_lexer": "ipython3",
   "version": "3.11.5"
  }
 },
 "nbformat": 4,
 "nbformat_minor": 2
}
