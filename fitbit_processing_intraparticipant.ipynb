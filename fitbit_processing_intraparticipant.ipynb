{
 "cells": [
  {
   "cell_type": "code",
   "execution_count": null,
   "metadata": {},
   "outputs": [],
   "source": [
    "%run sources/slicer.py\n",
    "%run sources/time_series_to_intervals.py\n",
    "%run sources/time_series_event_merge.py\n",
    "\n",
    "main_value = \"p02\" #variable\n",
    "main_feature = \"participant\"\n"
   ]
  },
  {
   "cell_type": "code",
   "execution_count": null,
   "metadata": {},
   "outputs": [],
   "source": [
    "feature = \"distance\"\n",
    "p = pd.read_csv(f\"processed_data/fitbit/{feature}.csv\")\n",
    "p[p[main_feature] == main_value][feature].describe()"
   ]
  },
  {
   "cell_type": "code",
   "execution_count": null,
   "metadata": {},
   "outputs": [],
   "source": [
    "time_feature = \"vt\"\n",
    "\"\"\"\n",
    "timeseries_df_list = {\"paths\": [\"processed_data/fitbit/calories.csv\",\n",
    "                                \"processed_data/fitbit/distance.csv\",\n",
    "                                \"processed_data/fitbit/steps.csv\",\n",
    "                                \"processed_data/fitbit/heart_rate.csv\"],\n",
    "                       \"group_features\": [\"calories\", \"distance\", \"steps\", \"bpm\"],\n",
    "                       \"bucket_values\": [[1.2, 1.57], [1860], [26], [46, 53, 62]]} #variable\n",
    "\"\"\"\n",
    "timeseries_df_list = {\"paths\": [],\n",
    "                       \"group_features\": [],\n",
    "                       \"bucket_values\": []}\n",
    "\n",
    "event_df_list = {\"paths\": [\"processed_data/fitbit/exercise.csv\",\n",
    "                            \"processed_data/fitbit/sleep_score.csv\",\n",
    "                            \"processed_data/fitbit/sleep.csv\"],\n",
    "                  \"group_features\": [\"Activity\", \"label\", \"sleep_phase\"],\n",
    "                  \"value_feature\": [\"value\", \"value\", \"value\"]}\n",
    "\n",
    "slicer_params = {\"stride\": 24, \"ow\": 20, \"ww\": 4, \"pw\": 48, \"granularity\": \"hours\"} #variable\n",
    "\n",
    "final_odf, final_pdf = samples_from_dataset(main_value, main_feature, time_feature, timeseries_df_list, event_df_list, slicer_params)"
   ]
  },
  {
   "cell_type": "code",
   "execution_count": null,
   "metadata": {},
   "outputs": [],
   "source": [
    "final_odf[final_odf.i == 6]"
   ]
  },
  {
   "cell_type": "code",
   "execution_count": null,
   "metadata": {},
   "outputs": [],
   "source": [
    "def sleep_score_from_prediction_window(dfs):\n",
    "    r,ids =[],[]\n",
    "    for df in dfs[\"label\"]:\n",
    "        scs = df.to_dict(orient=\"records\")\n",
    "        scs.sort(key=lambda x: x['vt'])\n",
    "        if len(df) > 0:\n",
    "            r.append(scs[0]['value']) \n",
    "            ids.append(scs[0]['i'])   \n",
    "    return pd.DataFrame({'SleepScore':r, 'i':ids})\n",
    "\n",
    "\n"
   ]
  },
  {
   "cell_type": "code",
   "execution_count": null,
   "metadata": {},
   "outputs": [],
   "source": [
    "def df_to_sequences(df):\n",
    "    df[\"sequence\"] = df.apply(lambda row: (row['vt'], row['label'], row['value']), axis=1)\n",
    "    r =df.groupby(\"i\")[\"sequence\"].agg(list).reset_index()\n",
    "    for i in range(len(r)):\n",
    "        r.iloc[i][\"sequence\"].sort(key=lambda x: x[0])\n",
    "    return r\n",
    "\n",
    "Z = df_to_sequences(final_odf)"
   ]
  },
  {
   "cell_type": "code",
   "execution_count": null,
   "metadata": {},
   "outputs": [],
   "source": [
    "Z = pd.merge(Z, sleep_score_from_prediction_window(final_pdf), on='i', how='inner')"
   ]
  },
  {
   "cell_type": "code",
   "execution_count": null,
   "metadata": {},
   "outputs": [],
   "source": [
    "Z[\"SleepScore\"].describe()"
   ]
  },
  {
   "cell_type": "code",
   "execution_count": null,
   "metadata": {},
   "outputs": [],
   "source": [
    "def score_buckets(s, buckets):\n",
    "    for i in range(len(buckets)):\n",
    "        if s <= buckets[i]:\n",
    "            if i == 0 or s > buckets[i-1]:\n",
    "                return i \n",
    "    return len(buckets)    \n",
    "\n",
    "scores = [67,73,76] #variable\n",
    "\n",
    "Z[\"class\"] = Z[\"SleepScore\"].apply(lambda x: score_buckets(x, scores))"
   ]
  },
  {
   "cell_type": "code",
   "execution_count": null,
   "metadata": {},
   "outputs": [],
   "source": [
    "Z"
   ]
  },
  {
   "cell_type": "code",
   "execution_count": null,
   "metadata": {},
   "outputs": [],
   "source": [
    "import json\n",
    "from datetime import datetime"
   ]
  },
  {
   "cell_type": "code",
   "execution_count": null,
   "metadata": {},
   "outputs": [],
   "source": [
    "ZPARAMS = {\n",
    "    \"main_value\":main_value, \n",
    "    \"main_feature\":main_feature, \n",
    "    \"time_feature\":time_feature, \n",
    "    \"timeseries_df_list\":timeseries_df_list, \n",
    "    \"event_df_list\":event_df_list, \n",
    "    \"slicer_params\":slicer_params,\n",
    "    \"class\":{\"SleepScore\": scores}\n",
    "}\n",
    "TIME = datetime.now().strftime('%Y%m%d_%H%M')\n",
    "ZNAME = f\"{TIME}_fitbit_{main_value}_events\"\n"
   ]
  },
  {
   "cell_type": "code",
   "execution_count": null,
   "metadata": {},
   "outputs": [],
   "source": [
    "Z[[\"sequence\", \"class\"]].to_csv(f\"datasets/{ZNAME}.csv\", index=False)\n",
    "with open(f\"datasets/{ZNAME}.json\", 'w') as json_file:\n",
    "    json.dump(ZPARAMS, json_file, indent=2)\n"
   ]
  },
  {
   "cell_type": "code",
   "execution_count": null,
   "metadata": {},
   "outputs": [],
   "source": []
  }
 ],
 "metadata": {
  "kernelspec": {
   "display_name": "base",
   "language": "python",
   "name": "python3"
  },
  "language_info": {
   "codemirror_mode": {
    "name": "ipython",
    "version": 3
   },
   "file_extension": ".py",
   "mimetype": "text/x-python",
   "name": "python",
   "nbconvert_exporter": "python",
   "pygments_lexer": "ipython3",
   "version": "3.11.5"
  }
 },
 "nbformat": 4,
 "nbformat_minor": 2
}
