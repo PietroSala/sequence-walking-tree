{
 "cells": [
  {
   "cell_type": "code",
   "execution_count": null,
   "metadata": {},
   "outputs": [],
   "source": [
    "%run sources/slicer.py\n",
    "%run sources/time_series_to_intervals.py\n",
    "%run sources/time_series_event_merge.py"
   ]
  },
  {
   "cell_type": "code",
   "execution_count": null,
   "metadata": {},
   "outputs": [],
   "source": [
    "main_value = \"p01\"\n",
    "main_feature = \"participant\"\n",
    "time_feature = \"vt\"\n",
    "\n",
    "timeseries_df_list = {\"paths\": [\"processed_data/fitbit/calories.csv\",\n",
    "                                \"processed_data/fitbit/distance.csv\",\n",
    "                                \"processed_data/fitbit/steps.csv\",\n",
    "                                \"processed_data/fitbit/heart_rate.csv\"],\n",
    "                       \"group_features\": [\"calories\", \"distance\", \"steps\", \"bpm\"],\n",
    "                       \"bucket_values\": [[1.16, 1.32, 1.59], [1236], [15.9], [51, 63, 76]]}\n",
    "\n",
    "event_df_list = {\"paths\": [\"processed_data/fitbit/exercise.csv\",\n",
    "                            \"processed_data/fitbit/sleep_score.csv\",\n",
    "                            \"processed_data/fitbit/sleep.csv\"],\n",
    "                  \"group_features\": [\"Activity\", \"label\", \"sleep_phase\"],\n",
    "                  \"value_feature\": [\"value\", \"value\", \"value\"]}\n",
    "\n",
    "slicer_params = {\"stride\": 24, \"ow\": 20, \"ww\": 4, \"pw\": 48, \"granularity\": \"hours\"}\n",
    "\n",
    "final_odf, final_pdf = samples_from_dataset(main_value, main_feature, time_feature, timeseries_df_list, event_df_list, slicer_params)"
   ]
  },
  {
   "cell_type": "code",
   "execution_count": null,
   "metadata": {},
   "outputs": [],
   "source": [
    "def sleep_score_from_prediction_window(dfs):\n",
    "    r =[]\n",
    "    for df in dfs[\"label\"]:\n",
    "        scs = df.to_dict(orient=\"records\")\n",
    "        scs.sort(key=lambda x: x['vt'])\n",
    "        r.append(scs[0]['value'])    \n",
    "    return pd.DataFrame({'SleepScore':r})"
   ]
  },
  {
   "cell_type": "code",
   "execution_count": null,
   "metadata": {},
   "outputs": [],
   "source": [
    "def df_to_sequences(df):\n",
    "    df[\"sequence\"] = df.apply(lambda row: (row['vt'], row['label'], row['value']), axis=1)\n",
    "    r =df.groupby(\"i\")[\"sequence\"].agg(list).reset_index()\n",
    "    for i in range(len(r)):\n",
    "        r.iloc[i][\"sequence\"].sort(key=lambda x: x[0])\n",
    "    return r\n",
    "\n",
    "Z = df_to_sequences(final_odf)"
   ]
  },
  {
   "cell_type": "code",
   "execution_count": null,
   "metadata": {},
   "outputs": [],
   "source": [
    "Z[\"SleepScore\"] = sleep_score_from_prediction_window(final_pdf)\n",
    "Z[\"SleepScore\"].describe()"
   ]
  },
  {
   "cell_type": "code",
   "execution_count": null,
   "metadata": {},
   "outputs": [],
   "source": [
    "def score_buckets(s, buckets):\n",
    "    for i in range(len(buckets)):\n",
    "        if s <= buckets[i]:\n",
    "            if i == 0 or s > buckets[i-1]:\n",
    "                return i \n",
    "    return len(buckets)    \n",
    "\n",
    "scores = [68,72,75]\n",
    "\n",
    "Z[\"class\"] = Z[\"SleepScore\"].apply(lambda x: score_buckets(x, scores))"
   ]
  },
  {
   "cell_type": "code",
   "execution_count": null,
   "metadata": {},
   "outputs": [],
   "source": [
    "Z"
   ]
  },
  {
   "cell_type": "code",
   "execution_count": null,
   "metadata": {},
   "outputs": [],
   "source": [
    "import json\n",
    "from datetime import datetime"
   ]
  },
  {
   "cell_type": "code",
   "execution_count": null,
   "metadata": {},
   "outputs": [],
   "source": [
    "ZPARAMS = {\n",
    "    \"main_value\":main_value, \n",
    "    \"main_feature\":main_feature, \n",
    "    \"time_feature\":time_feature, \n",
    "    \"timeseries_df_list\":timeseries_df_list, \n",
    "    \"event_df_list\":event_df_list, \n",
    "    \"slicer_params\":slicer_params,\n",
    "    \"class\":{\"SleepScore\": scores}\n",
    "}\n",
    "TIME = datetime.now().strftime('%Y%m%d_%H%M')\n",
    "ZNAME = f\"{TIME}_fitbit_p01_quartiles\"\n"
   ]
  },
  {
   "cell_type": "code",
   "execution_count": null,
   "metadata": {},
   "outputs": [],
   "source": [
    "Z[[\"sequence\", \"class\"]].to_csv(f\"datasets/{ZNAME}.csv\", index=False)\n",
    "with open(f\"datasets/{ZNAME}.json\", 'w') as json_file:\n",
    "    json.dump(ZPARAMS, json_file, indent=2)\n"
   ]
  },
  {
   "cell_type": "code",
   "execution_count": null,
   "metadata": {},
   "outputs": [],
   "source": []
  }
 ],
 "metadata": {
  "kernelspec": {
   "display_name": "base",
   "language": "python",
   "name": "python3"
  },
  "language_info": {
   "codemirror_mode": {
    "name": "ipython",
    "version": 3
   },
   "file_extension": ".py",
   "mimetype": "text/x-python",
   "name": "python",
   "nbconvert_exporter": "python",
   "pygments_lexer": "ipython3",
   "version": "3.11.5"
  }
 },
 "nbformat": 4,
 "nbformat_minor": 2
}
