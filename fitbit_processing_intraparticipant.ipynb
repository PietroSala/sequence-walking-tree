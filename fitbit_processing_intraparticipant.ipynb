{
 "cells": [
  {
   "cell_type": "code",
   "execution_count": 1,
   "metadata": {},
   "outputs": [],
   "source": [
    "%run sources/slicer.py\n",
    "%run sources/time_series_to_intervals.py\n",
    "%run sources/time_series_event_merge.py"
   ]
  },
  {
   "cell_type": "code",
   "execution_count": 2,
   "metadata": {},
   "outputs": [
    {
     "name": "stderr",
     "output_type": "stream",
     "text": [
      "100%|██████████| 149/149 [00:00<00:00, 17367.96it/s]\n",
      "100%|██████████| 149/149 [00:05<00:00, 26.25it/s]\n",
      "100%|██████████| 149/149 [00:00<00:00, 17853.20it/s]\n",
      "100%|██████████| 149/149 [00:05<00:00, 24.99it/s]\n",
      "100%|██████████| 149/149 [00:00<00:00, 16042.08it/s]\n",
      "100%|██████████| 149/149 [00:05<00:00, 24.85it/s]\n",
      "100%|██████████| 149/149 [00:00<00:00, 17744.22it/s]\n",
      "100%|██████████| 149/149 [00:05<00:00, 25.12it/s]\n",
      "100%|██████████| 149/149 [00:00<00:00, 18032.47it/s]\n",
      "100%|██████████| 149/149 [00:00<00:00, 1164.64it/s]\n",
      "100%|██████████| 149/149 [00:00<00:00, 19288.02it/s]\n",
      "100%|██████████| 149/149 [00:00<00:00, 1240.02it/s]\n",
      "100%|██████████| 149/149 [00:00<00:00, 19869.37it/s]\n",
      "100%|██████████| 149/149 [00:00<00:00, 1159.34it/s]\n"
     ]
    }
   ],
   "source": [
    "main_value = \"p01\"\n",
    "main_feature = \"participant\"\n",
    "time_feature = \"vt\"\n",
    "\n",
    "timeseries_df_list = {\"paths\": [\"processed_data/fitbit/calories.csv\",\n",
    "                                \"processed_data/fitbit/distance.csv\",\n",
    "                                \"processed_data/fitbit/steps.csv\",\n",
    "                                \"processed_data/fitbit/heart_rate.csv\"],\n",
    "                       \"group_features\": [\"calories\", \"distance\", \"steps\", \"bpm\"],\n",
    "                       \"bucket_values\": [[1.16, 1.32, 1.59], [1236], [15.9], [51, 63, 76]]}\n",
    "\n",
    "event_df_list = {\"paths\": [\"processed_data/fitbit/exercise.csv\",\n",
    "                            \"processed_data/fitbit/sleep_score.csv\",\n",
    "                            \"processed_data/fitbit/sleep.csv\"],\n",
    "                  \"group_features\": [\"Activity\", \"label\", \"sleep_phase\"],\n",
    "                  \"value_feature\": [\"value\", \"value\", \"value\"]}\n",
    "\n",
    "slicer_params = {\"stride\": 24, \"ow\": 20, \"ww\": 4, \"pw\": 48, \"granularity\": \"hours\"}\n",
    "\n",
    "final_odf, final_pdf = samples_from_dataset(main_value, main_feature, time_feature, timeseries_df_list, event_df_list, slicer_params)"
   ]
  },
  {
   "cell_type": "code",
   "execution_count": 3,
   "metadata": {},
   "outputs": [],
   "source": [
    "def sleep_score_from_prediction_window(dfs):\n",
    "    r =[]\n",
    "    for df in final_pdf[\"label\"]:\n",
    "        scs = df.to_dict(orient=\"records\")\n",
    "        scs.sort(key=lambda x: x['vt'])\n",
    "        r.append(scs[0]['value'])    \n",
    "    return pd.DataFrame({'SleepScore':r})"
   ]
  },
  {
   "cell_type": "code",
   "execution_count": 4,
   "metadata": {},
   "outputs": [],
   "source": [
    "def df_to_sequences(df):\n",
    "    df[\"sequence\"] = df.apply(lambda row: (row['vt'], row['label'], row['value']), axis=1)\n",
    "    r =df.groupby(\"i\")[\"sequence\"].agg(list).reset_index()\n",
    "    for i in range(len(r)):\n",
    "        r.iloc[i][\"sequence\"].sort(key=lambda x: x[0])\n",
    "    return r\n",
    "\n",
    "Z = df_to_sequences(final_odf)"
   ]
  },
  {
   "cell_type": "code",
   "execution_count": 5,
   "metadata": {},
   "outputs": [
    {
     "data": {
      "text/plain": [
       "count    149.000000\n",
       "mean      71.510067\n",
       "std        5.651617\n",
       "min       53.000000\n",
       "25%       68.000000\n",
       "50%       72.000000\n",
       "75%       75.000000\n",
       "max       88.000000\n",
       "Name: SleepScore, dtype: float64"
      ]
     },
     "execution_count": 5,
     "metadata": {},
     "output_type": "execute_result"
    }
   ],
   "source": [
    "Z[\"SleepScore\"] = sleep_score_from_prediction_window(final_pdf)\n",
    "Z[\"SleepScore\"].describe()"
   ]
  },
  {
   "cell_type": "code",
   "execution_count": 6,
   "metadata": {},
   "outputs": [],
   "source": [
    "def score_buckets(s, buckets):\n",
    "    for i in range(len(buckets)):\n",
    "        if s <= buckets[i]:\n",
    "            if i == 0 or s > buckets[i-1]:\n",
    "                return i \n",
    "    return len(buckets)    \n",
    "\n",
    "scores = [68,72,75]\n",
    "\n",
    "Z[\"class\"] = Z[\"SleepScore\"].apply(lambda x: score_buckets(x, scores))"
   ]
  },
  {
   "cell_type": "code",
   "execution_count": 7,
   "metadata": {},
   "outputs": [
    {
     "data": {
      "text/html": [
       "<div>\n",
       "<style scoped>\n",
       "    .dataframe tbody tr th:only-of-type {\n",
       "        vertical-align: middle;\n",
       "    }\n",
       "\n",
       "    .dataframe tbody tr th {\n",
       "        vertical-align: top;\n",
       "    }\n",
       "\n",
       "    .dataframe thead th {\n",
       "        text-align: right;\n",
       "    }\n",
       "</style>\n",
       "<table border=\"1\" class=\"dataframe\">\n",
       "  <thead>\n",
       "    <tr style=\"text-align: right;\">\n",
       "      <th></th>\n",
       "      <th>i</th>\n",
       "      <th>sequence</th>\n",
       "      <th>SleepScore</th>\n",
       "      <th>class</th>\n",
       "    </tr>\n",
       "  </thead>\n",
       "  <tbody>\n",
       "    <tr>\n",
       "      <th>0</th>\n",
       "      <td>0</td>\n",
       "      <td>[(0.0, calories_3, 28140.0), (0.0, distance_1,...</td>\n",
       "      <td>79</td>\n",
       "      <td>3</td>\n",
       "    </tr>\n",
       "    <tr>\n",
       "      <th>1</th>\n",
       "      <td>1</td>\n",
       "      <td>[(0.0, calories_3, 26760.0), (0.0, distance_1,...</td>\n",
       "      <td>71</td>\n",
       "      <td>1</td>\n",
       "    </tr>\n",
       "    <tr>\n",
       "      <th>2</th>\n",
       "      <td>2</td>\n",
       "      <td>[(0.0, calories_4, 14160.0), (0.0, distance_1,...</td>\n",
       "      <td>68</td>\n",
       "      <td>0</td>\n",
       "    </tr>\n",
       "    <tr>\n",
       "      <th>3</th>\n",
       "      <td>3</td>\n",
       "      <td>[(0.0, calories_4, 9000.0), (0.0, distance_1, ...</td>\n",
       "      <td>73</td>\n",
       "      <td>2</td>\n",
       "    </tr>\n",
       "    <tr>\n",
       "      <th>4</th>\n",
       "      <td>4</td>\n",
       "      <td>[(0.0, calories_3, 23640.0), (0.0, distance_1,...</td>\n",
       "      <td>67</td>\n",
       "      <td>0</td>\n",
       "    </tr>\n",
       "    <tr>\n",
       "      <th>...</th>\n",
       "      <td>...</td>\n",
       "      <td>...</td>\n",
       "      <td>...</td>\n",
       "      <td>...</td>\n",
       "    </tr>\n",
       "    <tr>\n",
       "      <th>144</th>\n",
       "      <td>144</td>\n",
       "      <td>[(0.0, calories_3, 30660.0), (0.0, distance_1,...</td>\n",
       "      <td>71</td>\n",
       "      <td>1</td>\n",
       "    </tr>\n",
       "    <tr>\n",
       "      <th>145</th>\n",
       "      <td>145</td>\n",
       "      <td>[(0.0, calories_3, 31380.0), (0.0, distance_1,...</td>\n",
       "      <td>76</td>\n",
       "      <td>3</td>\n",
       "    </tr>\n",
       "    <tr>\n",
       "      <th>146</th>\n",
       "      <td>146</td>\n",
       "      <td>[(0.0, calories_4, 540.0), (0.0, distance_1, 2...</td>\n",
       "      <td>72</td>\n",
       "      <td>1</td>\n",
       "    </tr>\n",
       "    <tr>\n",
       "      <th>147</th>\n",
       "      <td>147</td>\n",
       "      <td>[(0.0, calories_3, 35280.0), (0.0, distance_1,...</td>\n",
       "      <td>67</td>\n",
       "      <td>0</td>\n",
       "    </tr>\n",
       "    <tr>\n",
       "      <th>148</th>\n",
       "      <td>148</td>\n",
       "      <td>[(0.0, calories_4, 19080.0), (0.0, distance_1,...</td>\n",
       "      <td>62</td>\n",
       "      <td>0</td>\n",
       "    </tr>\n",
       "  </tbody>\n",
       "</table>\n",
       "<p>149 rows × 4 columns</p>\n",
       "</div>"
      ],
      "text/plain": [
       "       i                                           sequence  SleepScore  class\n",
       "0      0  [(0.0, calories_3, 28140.0), (0.0, distance_1,...          79      3\n",
       "1      1  [(0.0, calories_3, 26760.0), (0.0, distance_1,...          71      1\n",
       "2      2  [(0.0, calories_4, 14160.0), (0.0, distance_1,...          68      0\n",
       "3      3  [(0.0, calories_4, 9000.0), (0.0, distance_1, ...          73      2\n",
       "4      4  [(0.0, calories_3, 23640.0), (0.0, distance_1,...          67      0\n",
       "..   ...                                                ...         ...    ...\n",
       "144  144  [(0.0, calories_3, 30660.0), (0.0, distance_1,...          71      1\n",
       "145  145  [(0.0, calories_3, 31380.0), (0.0, distance_1,...          76      3\n",
       "146  146  [(0.0, calories_4, 540.0), (0.0, distance_1, 2...          72      1\n",
       "147  147  [(0.0, calories_3, 35280.0), (0.0, distance_1,...          67      0\n",
       "148  148  [(0.0, calories_4, 19080.0), (0.0, distance_1,...          62      0\n",
       "\n",
       "[149 rows x 4 columns]"
      ]
     },
     "execution_count": 7,
     "metadata": {},
     "output_type": "execute_result"
    }
   ],
   "source": [
    "Z"
   ]
  },
  {
   "cell_type": "code",
   "execution_count": 13,
   "metadata": {},
   "outputs": [],
   "source": [
    "import json\n",
    "from datetime import datetime"
   ]
  },
  {
   "cell_type": "code",
   "execution_count": 14,
   "metadata": {},
   "outputs": [],
   "source": [
    "ZPARAMS = {\n",
    "    \"main_value\":main_value, \n",
    "    \"main_feature\":main_feature, \n",
    "    \"time_feature\":time_feature, \n",
    "    \"timeseries_df_list\":timeseries_df_list, \n",
    "    \"event_df_list\":event_df_list, \n",
    "    \"slicer_params\":slicer_params,\n",
    "    \"class\":{\"SleepScore\": scores}\n",
    "}\n",
    "TIME = datetime.now().strftime('%Y%m%d_%H%M')\n",
    "ZNAME = f\"{TIME}_fitbit_p01_quartiles\"\n"
   ]
  },
  {
   "cell_type": "code",
   "execution_count": 15,
   "metadata": {},
   "outputs": [],
   "source": [
    "Z[[\"sequence\", \"class\"]].to_csv(f\"datasets/{ZNAME}.csv\", index=False)\n",
    "with open(f\"datasets/{ZNAME}.json\", 'w') as json_file:\n",
    "    json.dump(ZPARAMS, json_file, indent=2)\n"
   ]
  },
  {
   "cell_type": "code",
   "execution_count": null,
   "metadata": {},
   "outputs": [],
   "source": []
  }
 ],
 "metadata": {
  "kernelspec": {
   "display_name": "base",
   "language": "python",
   "name": "python3"
  },
  "language_info": {
   "codemirror_mode": {
    "name": "ipython",
    "version": 3
   },
   "file_extension": ".py",
   "mimetype": "text/x-python",
   "name": "python",
   "nbconvert_exporter": "python",
   "pygments_lexer": "ipython3",
   "version": "3.10.8"
  }
 },
 "nbformat": 4,
 "nbformat_minor": 2
}
