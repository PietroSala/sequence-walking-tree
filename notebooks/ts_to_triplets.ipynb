{
 "cells": [
  {
   "cell_type": "code",
   "execution_count": 4,
   "metadata": {},
   "outputs": [
    {
     "name": "stdout",
     "output_type": "stream",
     "text": [
      "                                  hs                        he\n",
      "main_value                                                    \n",
      "p01        2019-11-01 00:00:00+00:00 2020-03-31 23:59:00+00:00\n",
      "p02        2019-11-01 00:00:00+00:00 2020-03-31 23:59:00+00:00\n",
      "p03        2019-11-01 00:00:00+00:00 2020-03-31 23:59:00+00:00\n",
      "p04        2019-11-01 00:00:00+00:00 2020-03-31 17:12:00+00:00\n",
      "p05        2019-11-01 00:00:00+00:00 2020-03-31 23:59:00+00:00\n",
      "p06        2019-11-01 00:00:00+00:00 2020-03-31 23:59:00+00:00\n",
      "p07        2019-11-05 00:00:00+00:00 2020-03-31 18:55:00+00:00\n",
      "p08        2019-11-10 00:00:00+00:00 2020-03-31 23:59:00+00:00\n",
      "p09        2019-11-01 00:00:00+00:00 2020-03-31 23:59:00+00:00\n",
      "p10        2019-11-05 00:00:00+00:00 2020-03-31 23:59:00+00:00\n",
      "p11        2019-11-01 00:00:00+00:00 2020-03-31 23:59:00+00:00\n",
      "p12        2019-11-01 00:00:00+00:00 2020-03-31 23:59:00+00:00\n",
      "p13        2019-11-01 00:00:00+00:00 2020-03-31 23:59:00+00:00\n",
      "p14        2019-11-13 00:00:00+00:00 2020-03-31 23:30:30+00:00\n",
      "p15        2019-11-08 00:00:00+00:00 2020-04-01 07:19:00+00:00\n",
      "p16        2019-11-01 00:00:00+00:00 2020-03-31 23:59:00+00:00\n"
     ]
    }
   ],
   "source": [
    "import pandas as pd\n",
    "from tqdm import tqdm\n",
    "%run slicer.ipynb\n",
    "%run ts_to_intervals.ipynb\n",
    "%run dataset_to_slices.ipynb"
   ]
  },
  {
   "cell_type": "markdown",
   "metadata": {},
   "source": [
    "### samples_from_ds_ts\n",
    "creates two dataframes from time series data:<br>\n",
    "odfs: from start till waiting window.<br>\n",
    "pdfs: from waiting window till prediction window dataframes."
   ]
  },
  {
   "cell_type": "code",
   "execution_count": 31,
   "metadata": {},
   "outputs": [
    {
     "name": "stderr",
     "output_type": "stream",
     "text": [
      "100%|██████████| 151/151 [00:00<00:00, 19471.21it/s]\n",
      "  8%|▊         | 12/151 [00:02<00:30,  4.60it/s]/Users/omid/mambaforge/lib/python3.10/site-packages/sklearn/cluster/_mean_shift.py:271: UserWarning:\n",
      "\n",
      "Binning data failed with provided bin_size=85.714286, using data points as seeds.\n",
      "\n",
      " 30%|███       | 46/151 [00:08<00:19,  5.41it/s]/Users/omid/mambaforge/lib/python3.10/site-packages/sklearn/cluster/_mean_shift.py:271: UserWarning:\n",
      "\n",
      "Binning data failed with provided bin_size=60.000000, using data points as seeds.\n",
      "\n",
      " 54%|█████▎    | 81/151 [00:13<00:10,  6.59it/s]/Users/omid/mambaforge/lib/python3.10/site-packages/sklearn/cluster/_mean_shift.py:271: UserWarning:\n",
      "\n",
      "Binning data failed with provided bin_size=60.000000, using data points as seeds.\n",
      "\n",
      " 74%|███████▍  | 112/151 [00:19<00:07,  5.15it/s]/Users/omid/mambaforge/lib/python3.10/site-packages/sklearn/cluster/_mean_shift.py:271: UserWarning:\n",
      "\n",
      "Binning data failed with provided bin_size=60.000000, using data points as seeds.\n",
      "\n",
      " 91%|█████████ | 137/151 [00:22<00:01,  8.19it/s]/Users/omid/mambaforge/lib/python3.10/site-packages/sklearn/cluster/_mean_shift.py:271: UserWarning:\n",
      "\n",
      "Binning data failed with provided bin_size=60.000000, using data points as seeds.\n",
      "\n",
      "100%|██████████| 151/151 [00:24<00:00,  6.16it/s]\n"
     ]
    }
   ],
   "source": [
    "def samples_from_df_ts(\n",
    "        dataframe, hs, he, \n",
    "        main_feature,  # \"participant\"\n",
    "        time_feature,  # \"vt\" -> \"seconds\" before calling create_buckets\n",
    "        group_feature,  # \"calories\"\n",
    "        main_value,   # \"p01\"\n",
    "        slicer_params,  # { \"stride\":3,  \"ow\":3, \"ww\":6, \"pw\":14, \"granularity\":'hours'}\n",
    "        bucket_params):\n",
    "    \n",
    "    df = dataframe[dataframe[main_feature] == main_value].reset_index().copy()\n",
    "    slices = slicer(hs,he, **slicer_params)\n",
    "    st_ow_dfs = [df[(slices.iloc[i].st <= df[time_feature]) & (df[time_feature] <= slices.iloc[i].ow)].copy() for i in range(len(slices))]\n",
    "    ww_pw_dfs = [df[(slices.iloc[i].ww <= df[time_feature]) & (df[time_feature] <= slices.iloc[i].pw)].copy() for i in range(len(slices))]\n",
    "\n",
    "    for i, ww_pw_df in enumerate(tqdm(ww_pw_dfs)):\n",
    "        ww_pw_df[\"i\"] = i\n",
    "    r = []    \n",
    "    for i, st_ow_df in enumerate(tqdm(st_ow_dfs)):\n",
    "        transaction_start = slices.iloc[i].st\n",
    "        st_ow_df[\"seconds\"]  = (st_ow_df[time_feature] - transaction_start).dt.total_seconds() #.apply(lambda x: x.total_seconds())\n",
    "        bucket_values = bucket_params[\"bucket_values\"]\n",
    "        bi = create_intervals(create_buckets(st_ow_df,bucket_values, group_feature, \"seconds\", group_feature))\n",
    "        bi[\"i\"] = i\n",
    "        bi[\"vt\"] = bi[\"interval\"].apply(lambda x: x[0])\n",
    "        bi[\"value\"] = bi[\"interval\"].apply(lambda x: x[1] - x[0])\n",
    "        bi[\"label\"] = bi[\"bucket\"]\n",
    "        bi = bi[[\"i\", \"vt\", \"label\", \"value\"]].copy()\n",
    "        r.append(bi)\n",
    "    return r, ww_pw_dfs\n",
    "\n",
    "histories = histories_df\n",
    "p = \"p01\"\n",
    "feature_csv =\"calories.csv\"\n",
    "df_cal = pd.read_csv(f'datasets/fitbit/processed_data/{feature_csv}', parse_dates=[\"vt\"])\n",
    "df_cal.vt = df_cal.vt.apply(lambda x: x.tz_localize(None).tz_localize('UTC'))\n",
    "\n",
    "\n",
    "\n",
    "odfs, pdfs = samples_from_df_ts(df_cal, *tuple(histories.loc[p]), \"participant\",\"vt\", \"calories\", p,\n",
    "            {\"stride\":24,  \"ow\":12, \"ww\":12, \"pw\":14, \"granularity\":'hours'}, {\"bucket_values\": [1.40, 4.50, 10]})\n"
   ]
  },
  {
   "cell_type": "code",
   "execution_count": 32,
   "metadata": {},
   "outputs": [
    {
     "data": {
      "text/html": [
       "<div>\n",
       "<style scoped>\n",
       "    .dataframe tbody tr th:only-of-type {\n",
       "        vertical-align: middle;\n",
       "    }\n",
       "\n",
       "    .dataframe tbody tr th {\n",
       "        vertical-align: top;\n",
       "    }\n",
       "\n",
       "    .dataframe thead th {\n",
       "        text-align: right;\n",
       "    }\n",
       "</style>\n",
       "<table border=\"1\" class=\"dataframe\">\n",
       "  <thead>\n",
       "    <tr style=\"text-align: right;\">\n",
       "      <th></th>\n",
       "      <th>i</th>\n",
       "      <th>vt</th>\n",
       "      <th>label</th>\n",
       "      <th>value</th>\n",
       "    </tr>\n",
       "  </thead>\n",
       "  <tbody>\n",
       "    <tr>\n",
       "      <th>0</th>\n",
       "      <td>1</td>\n",
       "      <td>0.0</td>\n",
       "      <td>calories_1</td>\n",
       "      <td>13560.0</td>\n",
       "    </tr>\n",
       "    <tr>\n",
       "      <th>3</th>\n",
       "      <td>1</td>\n",
       "      <td>240.0</td>\n",
       "      <td>calories_2</td>\n",
       "      <td>2220.0</td>\n",
       "    </tr>\n",
       "    <tr>\n",
       "      <th>4</th>\n",
       "      <td>1</td>\n",
       "      <td>10500.0</td>\n",
       "      <td>calories_2</td>\n",
       "      <td>14280.0</td>\n",
       "    </tr>\n",
       "    <tr>\n",
       "      <th>1</th>\n",
       "      <td>1</td>\n",
       "      <td>13620.0</td>\n",
       "      <td>calories_1</td>\n",
       "      <td>15060.0</td>\n",
       "    </tr>\n",
       "    <tr>\n",
       "      <th>5</th>\n",
       "      <td>1</td>\n",
       "      <td>26040.0</td>\n",
       "      <td>calories_2</td>\n",
       "      <td>16920.0</td>\n",
       "    </tr>\n",
       "    <tr>\n",
       "      <th>6</th>\n",
       "      <td>1</td>\n",
       "      <td>28260.0</td>\n",
       "      <td>calories_3</td>\n",
       "      <td>1920.0</td>\n",
       "    </tr>\n",
       "    <tr>\n",
       "      <th>10</th>\n",
       "      <td>1</td>\n",
       "      <td>29280.0</td>\n",
       "      <td>calories_4</td>\n",
       "      <td>0.0</td>\n",
       "    </tr>\n",
       "    <tr>\n",
       "      <th>11</th>\n",
       "      <td>1</td>\n",
       "      <td>29340.0</td>\n",
       "      <td>calories_4</td>\n",
       "      <td>0.0</td>\n",
       "    </tr>\n",
       "    <tr>\n",
       "      <th>7</th>\n",
       "      <td>1</td>\n",
       "      <td>31080.0</td>\n",
       "      <td>calories_3</td>\n",
       "      <td>2280.0</td>\n",
       "    </tr>\n",
       "    <tr>\n",
       "      <th>2</th>\n",
       "      <td>1</td>\n",
       "      <td>33840.0</td>\n",
       "      <td>calories_1</td>\n",
       "      <td>8880.0</td>\n",
       "    </tr>\n",
       "    <tr>\n",
       "      <th>8</th>\n",
       "      <td>1</td>\n",
       "      <td>38880.0</td>\n",
       "      <td>calories_3</td>\n",
       "      <td>480.0</td>\n",
       "    </tr>\n",
       "    <tr>\n",
       "      <th>9</th>\n",
       "      <td>1</td>\n",
       "      <td>43020.0</td>\n",
       "      <td>calories_3</td>\n",
       "      <td>180.0</td>\n",
       "    </tr>\n",
       "  </tbody>\n",
       "</table>\n",
       "</div>"
      ],
      "text/plain": [
       "    i       vt       label    value\n",
       "0   1      0.0  calories_1  13560.0\n",
       "3   1    240.0  calories_2   2220.0\n",
       "4   1  10500.0  calories_2  14280.0\n",
       "1   1  13620.0  calories_1  15060.0\n",
       "5   1  26040.0  calories_2  16920.0\n",
       "6   1  28260.0  calories_3   1920.0\n",
       "10  1  29280.0  calories_4      0.0\n",
       "11  1  29340.0  calories_4      0.0\n",
       "7   1  31080.0  calories_3   2280.0\n",
       "2   1  33840.0  calories_1   8880.0\n",
       "8   1  38880.0  calories_3    480.0\n",
       "9   1  43020.0  calories_3    180.0"
      ]
     },
     "execution_count": 32,
     "metadata": {},
     "output_type": "execute_result"
    }
   ],
   "source": [
    "odfs[1].sort_values(\"vt\")"
   ]
  },
  {
   "cell_type": "markdown",
   "metadata": {},
   "source": [
    "### samples_from_df_ev\n",
    "creates two dataframes from event databases:<br>\n",
    "odfs: from start till waiting window.<br>\n",
    "pdfs: from waiting window till prediction window dataframes.<br>\n",
    "it does the same thing as \"samples_from_df_ev\" but doesn't do any bucketing."
   ]
  },
  {
   "cell_type": "code",
   "execution_count": 7,
   "metadata": {},
   "outputs": [
    {
     "name": "stderr",
     "output_type": "stream",
     "text": [
      "100%|██████████| 151/151 [00:00<00:00, 21581.08it/s]\n",
      "100%|██████████| 151/151 [00:00<00:00, 1440.33it/s]\n"
     ]
    }
   ],
   "source": [
    "def samples_from_df_ev(dataframe, #\"exercise.csv as example\"\n",
    "        hs, # history start\n",
    "        he, # history end\n",
    "        main_feature,  # \"participant\"\n",
    "        time_feature,  # \"vt\" -> then adding \"seconds\" columns before calling create_buckets\n",
    "        group_feature,  # \"Activity\"\n",
    "        value_feature, # \"value\"--new-- and lacks bucket_params\n",
    "        main_value,   # \"p01\"\n",
    "        slicer_params): # { \"stride\":3,  \"ow\":3, \"ww\":6, \"pw\":14, \"granularity\":'hours'})  \n",
    "    \n",
    "    df = dataframe[dataframe[main_feature] == main_value].reset_index().copy()\n",
    "    slices = slicer(hs, he, **slicer_params)\n",
    "    \n",
    "    st_ow_dfs = [df[(slices.iloc[i].st <= df[time_feature]) & (df[time_feature] <= slices.iloc[i].ow)].copy() for i in range(len(slices))]\n",
    "    ww_pw_dfs = [df[(slices.iloc[i].ww <= df[time_feature]) & (df[time_feature] <= slices.iloc[i].pw)].copy() for i in range(len(slices))]\n",
    "    \n",
    "    for i, ww_pw_df in enumerate(tqdm(ww_pw_dfs)):\n",
    "        ww_pw_df[\"i\"] = i\n",
    "    \n",
    "    r = []    \n",
    "    for i, st_ow_df in enumerate(tqdm(st_ow_dfs)):\n",
    "        transaction_start = slices.iloc[i].st\n",
    "        if not st_ow_df.empty:\n",
    "            #st_ow_df[\"vt\"] = (st_ow_df[time_feature] - min(st_ow_df[time_feature])).apply(lambda x: x.total_seconds())\n",
    "            st_ow_df[\"vt\"] = (st_ow_df[time_feature] - transaction_start).dt.total_seconds()\n",
    "\n",
    "\n",
    "        bi = st_ow_df[[time_feature, group_feature, value_feature]].copy()\n",
    "        bi[\"i\"] = i\n",
    "        bi[\"vt\"] = bi[\"vt\"] #or can be time_feature !\n",
    "        bi[\"label\"] = bi[group_feature]\n",
    "        bi[\"value\"] = bi[value_feature]\n",
    "        bi = bi[[\"i\", \"vt\", \"label\", \"value\"]].copy()\n",
    "        r.append(bi)\n",
    "    \n",
    "    return r, ww_pw_dfs\n",
    "\n",
    "# Example usage:\n",
    "histories = histories_df\n",
    "p = \"p01\"\n",
    "feature_csv = \"exercise.csv\"\n",
    "df_ex = pd.read_csv(f'datasets/fitbit/processed_data/{feature_csv}', parse_dates=[\"vt\"])\n",
    "df_ex.vt = df_ex.vt.apply(lambda x: x.tz_localize(None).tz_localize('UTC'))\n",
    "\n",
    "odfs_ev, pdfs_ev = samples_from_df_ev(df_ex, *tuple(histories.loc[p]), \"participant\", \"vt\", \"Activity\", \"value\", p,\n",
    "                                       {\"stride\": 24, \"ow\": 12, \"ww\": 12, \"pw\": 14, \"granularity\": 'hours'})\n"
   ]
  },
  {
   "cell_type": "code",
   "execution_count": 8,
   "metadata": {},
   "outputs": [
    {
     "data": {
      "text/html": [
       "<div>\n",
       "<style scoped>\n",
       "    .dataframe tbody tr th:only-of-type {\n",
       "        vertical-align: middle;\n",
       "    }\n",
       "\n",
       "    .dataframe tbody tr th {\n",
       "        vertical-align: top;\n",
       "    }\n",
       "\n",
       "    .dataframe thead th {\n",
       "        text-align: right;\n",
       "    }\n",
       "</style>\n",
       "<table border=\"1\" class=\"dataframe\">\n",
       "  <thead>\n",
       "    <tr style=\"text-align: right;\">\n",
       "      <th></th>\n",
       "      <th>i</th>\n",
       "      <th>vt</th>\n",
       "      <th>label</th>\n",
       "      <th>value</th>\n",
       "    </tr>\n",
       "  </thead>\n",
       "  <tbody>\n",
       "    <tr>\n",
       "      <th>151</th>\n",
       "      <td>112</td>\n",
       "      <td>24855.0</td>\n",
       "      <td>Run</td>\n",
       "      <td>1240000</td>\n",
       "    </tr>\n",
       "    <tr>\n",
       "      <th>152</th>\n",
       "      <td>112</td>\n",
       "      <td>35317.0</td>\n",
       "      <td>Run</td>\n",
       "      <td>2102000</td>\n",
       "    </tr>\n",
       "  </tbody>\n",
       "</table>\n",
       "</div>"
      ],
      "text/plain": [
       "       i       vt label    value\n",
       "151  112  24855.0   Run  1240000\n",
       "152  112  35317.0   Run  2102000"
      ]
     },
     "execution_count": 8,
     "metadata": {},
     "output_type": "execute_result"
    }
   ],
   "source": [
    "odfs_ev[112]"
   ]
  },
  {
   "cell_type": "markdown",
   "metadata": {},
   "source": [
    "#### Getting Info About all the files in the folder"
   ]
  },
  {
   "cell_type": "code",
   "execution_count": 9,
   "metadata": {},
   "outputs": [
    {
     "name": "stdout",
     "output_type": "stream",
     "text": [
      "\n",
      "File: sleep_score.csv\n",
      "Column Names: participant, vt, label, value\n",
      "             value\n",
      "count  1836.000000\n",
      "mean     76.460784\n",
      "std       7.795554\n",
      "min      35.000000\n",
      "25%      72.000000\n",
      "50%      77.000000\n",
      "75%      82.000000\n",
      "max      94.000000\n",
      "\n",
      "File: participant.csv\n",
      "Column Names: ParticipantId, Age, Height, Gender, AOrBPerson, MaxHeartRate, FirstFiveKmRunDate, Minutes, Seconds, StrideWalk, StrideRun\n",
      "             Age      Height  StrideWalk   StrideRun\n",
      "count  16.000000   16.000000   14.000000   14.000000\n",
      "mean   34.875000  179.625000   74.230714   97.528571\n",
      "std    11.672618    6.781101    3.102040   27.019606\n",
      "min    23.000000  163.000000   67.300000   11.300000\n",
      "25%    26.000000  177.750000   73.052500   95.125000\n",
      "50%    29.000000  180.000000   74.700000  102.600000\n",
      "75%    42.750000  182.250000   75.400000  108.825000\n",
      "max    60.000000  195.000000   80.900000  128.800000\n",
      "\n",
      "File: exercise.csv\n",
      "Column Names: participant, vt, Activity, value\n",
      "              value\n",
      "count  2.440000e+03\n",
      "mean   2.516525e+06\n",
      "std    2.829184e+06\n",
      "min    4.000000e+03\n",
      "25%    1.178000e+06\n",
      "50%    1.741000e+06\n",
      "75%    3.020250e+06\n",
      "max    5.452200e+07\n",
      "\n",
      "File: calories.csv\n",
      "Column Names: participant, vt, calories\n",
      "           calories\n",
      "count  3.377529e+06\n",
      "mean   1.992373e+00\n",
      "std    1.913007e+00\n",
      "min    2.800000e-01\n",
      "25%    1.160000e+00\n",
      "50%    1.320000e+00\n",
      "75%    1.590000e+00\n",
      "max    2.373000e+01\n",
      "\n",
      "File: heart_rate.csv\n",
      "Column Names: participant, vt, bpm\n",
      "                bpm\n",
      "count  3.291848e+06\n",
      "mean   5.826275e+01\n",
      "std    3.097688e+01\n",
      "min    0.000000e+00\n",
      "25%    5.100000e+01\n",
      "50%    6.300000e+01\n",
      "75%    7.600000e+01\n",
      "max    2.060000e+02\n",
      "\n",
      "File: distance.csv\n",
      "Column Names: participant, vt, distance\n",
      "           distance\n",
      "count  1.534705e+06\n",
      "mean   1.236082e+03\n",
      "std    2.669146e+03\n",
      "min    0.000000e+00\n",
      "25%    0.000000e+00\n",
      "50%    0.000000e+00\n",
      "75%    1.170000e+03\n",
      "max    2.530000e+04\n",
      "\n",
      "File: sleep.csv\n",
      "Column Names: participant, vt, sleep_phase, value\n",
      "              value\n",
      "count  49107.000000\n",
      "mean    1120.411143\n",
      "std     1113.167245\n",
      "min       30.000000\n",
      "25%      360.000000\n",
      "50%      750.000000\n",
      "75%     1560.000000\n",
      "max    20520.000000\n",
      "\n",
      "File: steps.csv\n",
      "Column Names: participant, vt, steps\n",
      "              steps\n",
      "count  1.534705e+06\n",
      "mean   1.589384e+01\n",
      "std    3.166658e+01\n",
      "min    0.000000e+00\n",
      "25%    0.000000e+00\n",
      "50%    0.000000e+00\n",
      "75%    1.600000e+01\n",
      "max    2.190000e+02\n"
     ]
    }
   ],
   "source": [
    "import os\n",
    "\n",
    "def info_csv_files(folder_path):\n",
    "\n",
    "    # Gets a list of all CSV files\n",
    "    csv_files = [f for f in os.listdir(folder_path) if f.endswith('.csv')]\n",
    "\n",
    "    for file in csv_files:\n",
    "        file_path = os.path.join(folder_path, file)\n",
    "\n",
    "        df = pd.read_csv(file_path)\n",
    "\n",
    "        print(f\"\\nFile: {file}\\nColumn Names: {', '.join(df.columns)}\")\n",
    "\n",
    "        print(df.describe())\n",
    "\n",
    "folder_path = 'datasets/fitbit/processed_data/'\n",
    "info_csv_files(folder_path)\n"
   ]
  },
  {
   "cell_type": "markdown",
   "metadata": {},
   "source": [
    "### SAMPLES_FROM_DATASET function"
   ]
  },
  {
   "cell_type": "markdown",
   "metadata": {},
   "source": [
    "##### samples_from_dataset (<br>\n",
    "       main_value, # \"p01\" <br>\n",
    "       timeseries_df_list, # [{“path\":\"here goes path of all the timeseries dataframes\" , \"main_feature\":\"e.g. participant\",\n",
    "        #\"time_feature\":\"e.g. vt\", \"group_feature\":\"e.g. Activity\", \"bucket_values\":\"[1.40, 4.50, 10]\"}],\n",
    "       event_df_list, # [{“path\":\"here goes path of all the event dataframes\", \"main_feature\":\"e.g. participant\", #\"time_feature\":\"e.g. vt\",\n",
    "       #\"group_feature\":\"e.g. Activity\",\"value_feature\":\"e.g. value\"}]\n",
    "       slicer_params #[{\"vts: should be calculated with dataset_history function(hs)\" ,\"vte\":\"should be calculated with dataset_history function(he)\",\n",
    "       #\"stride\":24,  \"ow\":12, \"ww\":12, \"pw\":14, \"granularity\":\"hours\"}]\n",
    "):<br>\n",
    "    # steps of this function:<br>\n",
    "    # a- computes the histories (hs,he) on all the .csv files.<br>\n",
    "    # b- loads the file in datframe<br>\n",
    "    # c- fix “vt“s timezone  <br>\n",
    "    # d- generates the dataframes with either samples_from_df_ts or samples_from_df_ev functions.<br>\n",
    "    # e- concatenates all the returned \"odfs\" and \"odfs_ev\" ordered, in a dataframe. Concatenates the list of \"pdfs\" and \"pdfs_ev\" in a dataframe.<br>\n",
    "    pass\n",
    "\n"
   ]
  },
  {
   "cell_type": "code",
   "execution_count": 10,
   "metadata": {},
   "outputs": [],
   "source": [
    "def samples_from_dataset(main_value, main_feature, time_feature, timeseries_data, event_data, slicer_params):\n",
    "    \n",
    "    all_odfs, all_pdfs = [], {}\n",
    "\n",
    "    history = dataset_history(timeseries_data[\"paths\"]+event_data[\"paths\"], main_feature, time_feature, main_value)\n",
    "\n",
    "    for path, group_feature, bucket_values in zip(timeseries_data[\"paths\"], timeseries_data[\"group_features\"], timeseries_data[\"bucket_values\"]):\n",
    "            # Step a: Compute histories (hs, he) on all the .csv files\n",
    "\n",
    "            # Step b & c: Load the file in a DataFrame and fix time_feature's timezone\n",
    "        ts_df = pd.read_csv(path, parse_dates=[time_feature])\n",
    "        ts_df[time_feature] = ts_df[time_feature].apply(lambda x: x.tz_localize(None).tz_localize('UTC'))\n",
    "\n",
    "            # Step d.a timeseries: Generate dataframes with samples_from_df_ts function\n",
    "        t_odfs, t_pdfs = samples_from_df_ts(\n",
    "                ts_df, history[0], history[1], main_feature,\n",
    "                time_feature, group_feature,\n",
    "                main_value, slicer_params, {\"bucket_values\": bucket_values}\n",
    "            )\n",
    "            #Iterates over its argument and adding each element to the list and extending the list,O(k)(used instead of append,O(1))\n",
    "        all_odfs.extend(t_odfs)\n",
    "        all_pdfs[group_feature] = t_pdfs\n",
    "\n",
    "    for path, group_feature, value_feature in zip(event_data[\"paths\"], event_data[\"group_features\"], event_data[\"value_feature\"]):\n",
    "            # Step a: Compute histories (hs, he) on all the .csv files\n",
    "\n",
    "            # Step b & c: Load the file in a DataFrame and fix time_feature's timezone\n",
    "        ev_df = pd.read_csv(path, parse_dates=[time_feature])\n",
    "        ev_df[time_feature] = ev_df[time_feature].apply(lambda x: x.tz_localize(None).tz_localize('UTC'))\n",
    "\n",
    "            # Step d.b event: Generate dataframes with samples_from_df_ev function\n",
    "        v_odfs, v_pdfs = samples_from_df_ev(\n",
    "                ev_df, history[0], history[1], main_feature,\n",
    "                time_feature, group_feature,\n",
    "                value_feature, main_value, slicer_params\n",
    "            )\n",
    "\n",
    "        all_odfs.extend(v_odfs)\n",
    "        all_pdfs[group_feature] = v_pdfs\n",
    "\n",
    "    # Step e: Concatenate all the returned \"odfs\" and \"odfs_ev\" in a ordered DataFrame\n",
    "    final_odf_df = pd.concat(all_odfs).sort_values(by=[\"i\", \"vt\"]).reset_index(drop=True)\n",
    "\n",
    "    return final_odf_df, all_pdfs\n"
   ]
  },
  {
   "cell_type": "markdown",
   "metadata": {},
   "source": [
    "#### Applying samples_from_dataset on all the CSV files"
   ]
  },
  {
   "cell_type": "code",
   "execution_count": 236,
   "metadata": {},
   "outputs": [
    {
     "name": "stderr",
     "output_type": "stream",
     "text": [
      "100%|██████████| 149/149 [00:00<00:00, 18650.25it/s]\n",
      "100%|██████████| 149/149 [00:06<00:00, 23.52it/s]\n",
      "100%|██████████| 149/149 [00:00<00:00, 19623.55it/s]\n",
      "100%|██████████| 149/149 [00:06<00:00, 22.17it/s]\n",
      "100%|██████████| 149/149 [00:00<00:00, 20118.83it/s]\n",
      "100%|██████████| 149/149 [00:06<00:00, 22.12it/s]\n",
      "100%|██████████| 149/149 [00:00<00:00, 19502.91it/s]\n",
      "100%|██████████| 149/149 [00:06<00:00, 21.32it/s]\n",
      "100%|██████████| 149/149 [00:00<00:00, 20140.88it/s]\n",
      "100%|██████████| 149/149 [00:00<00:00, 1153.82it/s]\n",
      "100%|██████████| 149/149 [00:00<00:00, 19538.28it/s]\n",
      "100%|██████████| 149/149 [00:00<00:00, 1238.31it/s]\n",
      "100%|██████████| 149/149 [00:00<00:00, 22412.54it/s]\n",
      "100%|██████████| 149/149 [00:00<00:00, 1294.64it/s]\n"
     ]
    }
   ],
   "source": [
    "main_value = \"p01\"\n",
    "main_feature = \"participant\"\n",
    "time_feature = \"vt\"\n",
    "\n",
    "timeseries_df_list = {\"paths\": [\"datasets/fitbit/processed_data/calories.csv\",\n",
    "                                \"datasets/fitbit/processed_data/distance.csv\",\n",
    "                                \"datasets/fitbit/processed_data/steps.csv\",\n",
    "                                \"datasets/fitbit/processed_data/heart_rate.csv\"],\n",
    "                       \"group_features\": [\"calories\", \"distance\", \"steps\", \"bpm\"],\n",
    "                       \"bucket_values\": [[1.16, 1.32, 1.59], [1236], [15.9], [51, 63, 76]]}\n",
    "\n",
    "event_df_list = {\"paths\": [\"datasets/fitbit/processed_data/exercise.csv\",\n",
    "                            \"datasets/fitbit/processed_data/sleep_score.csv\",\n",
    "                            \"datasets/fitbit/processed_data/sleep.csv\"],\n",
    "                  \"group_features\": [\"Activity\", \"label\", \"sleep_phase\"],\n",
    "                  \"value_feature\": [\"value\", \"value\", \"value\"]}\n",
    "\n",
    "slicer_params = {\"stride\": 24, \"ow\": 20, \"ww\": 4, \"pw\": 48, \"granularity\": \"hours\"}\n",
    "\n",
    "final_odf, final_pdf = samples_from_dataset(main_value, main_feature, time_feature, timeseries_df_list, event_df_list, slicer_params)"
   ]
  },
  {
   "cell_type": "markdown",
   "metadata": {},
   "source": [
    "### Scatter Plot"
   ]
  },
  {
   "cell_type": "code",
   "execution_count": 237,
   "metadata": {},
   "outputs": [
    {
     "data": {
      "application/vnd.plotly.v1+json": {
       "config": {
        "plotlyServerURL": "https://plot.ly"
       },
       "data": [
        {
         "hovertemplate": "Label=%{y}<br>Timestamp in seconds=%{x}<br>value=%{marker.size}<extra></extra>",
         "legendgroup": "calories_4",
         "marker": {
          "color": "#636efa",
          "line": {
           "color": "white",
           "width": 1
          },
          "size": [
           9000,
           27600,
           25440
          ],
          "sizemode": "area",
          "sizeref": 110.1,
          "symbol": "circle"
         },
         "mode": "markers",
         "name": "calories_4",
         "orientation": "v",
         "showlegend": true,
         "type": "scatter",
         "x": [
          0,
          18540,
          46200
         ],
         "xaxis": "x",
         "y": [
          "calories_4",
          "calories_4",
          "calories_4"
         ],
         "yaxis": "y"
        },
        {
         "hovertemplate": "Label=%{y}<br>Timestamp in seconds=%{x}<br>value=%{marker.size}<extra></extra>",
         "legendgroup": "distance_1",
         "marker": {
          "color": "#EF553B",
          "line": {
           "color": "white",
           "width": 1
          },
          "size": [
           24600,
           24600,
           22680
          ],
          "sizemode": "area",
          "sizeref": 110.1,
          "symbol": "circle"
         },
         "mode": "markers",
         "name": "distance_1",
         "orientation": "v",
         "showlegend": true,
         "type": "scatter",
         "x": [
          0,
          24660,
          49320
         ],
         "xaxis": "x",
         "y": [
          "distance_1",
          "distance_1",
          "distance_1"
         ],
         "yaxis": "y"
        },
        {
         "hovertemplate": "Label=%{y}<br>Timestamp in seconds=%{x}<br>value=%{marker.size}<extra></extra>",
         "legendgroup": "steps_1",
         "marker": {
          "color": "#00cc96",
          "line": {
           "color": "white",
           "width": 1
          },
          "size": [
           24600,
           24600,
           22680
          ],
          "sizemode": "area",
          "sizeref": 110.1,
          "symbol": "circle"
         },
         "mode": "markers",
         "name": "steps_1",
         "orientation": "v",
         "showlegend": true,
         "type": "scatter",
         "x": [
          0,
          24660,
          49320
         ],
         "xaxis": "x",
         "y": [
          "steps_1",
          "steps_1",
          "steps_1"
         ],
         "yaxis": "y"
        },
        {
         "hovertemplate": "Label=%{y}<br>Timestamp in seconds=%{x}<br>value=%{marker.size}<extra></extra>",
         "legendgroup": "bpm_2",
         "marker": {
          "color": "#ab63fa",
          "line": {
           "color": "white",
           "width": 1
          },
          "size": [
           27120,
           44040
          ],
          "sizemode": "area",
          "sizeref": 110.1,
          "symbol": "circle"
         },
         "mode": "markers",
         "name": "bpm_2",
         "orientation": "v",
         "showlegend": true,
         "type": "scatter",
         "x": [
          0,
          27240
         ],
         "xaxis": "x",
         "y": [
          "bpm_2",
          "bpm_2"
         ],
         "yaxis": "y"
        },
        {
         "hovertemplate": "Label=%{y}<br>Timestamp in seconds=%{x}<br>value=%{marker.size}<extra></extra>",
         "legendgroup": "calories_3",
         "marker": {
          "color": "#FFA15A",
          "line": {
           "color": "white",
           "width": 1
          },
          "size": [
           30000,
           41880
          ],
          "sizemode": "area",
          "sizeref": 110.1,
          "symbol": "circle"
         },
         "mode": "markers",
         "name": "calories_3",
         "orientation": "v",
         "showlegend": true,
         "type": "scatter",
         "x": [
          60,
          30120
         ],
         "xaxis": "x",
         "y": [
          "calories_3",
          "calories_3"
         ],
         "yaxis": "y"
        },
        {
         "hovertemplate": "Label=%{y}<br>Timestamp in seconds=%{x}<br>value=%{marker.size}<extra></extra>",
         "legendgroup": "deep",
         "marker": {
          "color": "#19d3f3",
          "line": {
           "color": "white",
           "width": 1
          },
          "size": [
           1950,
           360
          ],
          "sizemode": "area",
          "sizeref": 110.1,
          "symbol": "circle"
         },
         "mode": "markers",
         "name": "deep",
         "orientation": "v",
         "showlegend": true,
         "type": "scatter",
         "x": [
          420,
          11520
         ],
         "xaxis": "x",
         "y": [
          "deep",
          "deep"
         ],
         "yaxis": "y"
        },
        {
         "hovertemplate": "Label=%{y}<br>Timestamp in seconds=%{x}<br>value=%{marker.size}<extra></extra>",
         "legendgroup": "light",
         "marker": {
          "color": "#FF6692",
          "line": {
           "color": "white",
           "width": 1
          },
          "size": [
           120,
           5010,
           2520,
           6240,
           1710,
           300,
           1890
          ],
          "sizemode": "area",
          "sizeref": 110.1,
          "symbol": "circle"
         },
         "mode": "markers",
         "name": "light",
         "orientation": "v",
         "showlegend": true,
         "type": "scatter",
         "x": [
          2370,
          2700,
          9000,
          11880,
          18390,
          20400,
          20970
         ],
         "xaxis": "x",
         "y": [
          "light",
          "light",
          "light",
          "light",
          "light",
          "light",
          "light"
         ],
         "yaxis": "y"
        },
        {
         "hovertemplate": "Label=%{y}<br>Timestamp in seconds=%{x}<br>value=%{marker.size}<extra></extra>",
         "legendgroup": "wake",
         "marker": {
          "color": "#B6E880",
          "line": {
           "color": "white",
           "width": 1
          },
          "size": [
           210,
           840
          ],
          "sizemode": "area",
          "sizeref": 110.1,
          "symbol": "circle"
         },
         "mode": "markers",
         "name": "wake",
         "orientation": "v",
         "showlegend": true,
         "type": "scatter",
         "x": [
          2490,
          22860
         ],
         "xaxis": "x",
         "y": [
          "wake",
          "wake"
         ],
         "yaxis": "y"
        },
        {
         "hovertemplate": "Label=%{y}<br>Timestamp in seconds=%{x}<br>value=%{marker.size}<extra></extra>",
         "legendgroup": "bpm_3",
         "marker": {
          "color": "#FF97FF",
          "line": {
           "color": "white",
           "width": 1
          },
          "size": [
           13740,
           24540,
           26760
          ],
          "sizemode": "area",
          "sizeref": 110.1,
          "symbol": "circle"
         },
         "mode": "markers",
         "name": "bpm_3",
         "orientation": "v",
         "showlegend": true,
         "type": "scatter",
         "x": [
          4260,
          19500,
          44280
         ],
         "xaxis": "x",
         "y": [
          "bpm_3",
          "bpm_3",
          "bpm_3"
         ],
         "yaxis": "y"
        },
        {
         "hovertemplate": "Label=%{y}<br>Timestamp in seconds=%{x}<br>value=%{marker.size}<extra></extra>",
         "legendgroup": "rem",
         "marker": {
          "color": "#FECB52",
          "line": {
           "color": "white",
           "width": 1
          },
          "size": [
           1290,
           270,
           300,
           270
          ],
          "sizemode": "area",
          "sizeref": 110.1,
          "symbol": "circle"
         },
         "mode": "markers",
         "name": "rem",
         "orientation": "v",
         "showlegend": true,
         "type": "scatter",
         "x": [
          7710,
          18120,
          20100,
          20700
         ],
         "xaxis": "x",
         "y": [
          "rem",
          "rem",
          "rem",
          "rem"
         ],
         "yaxis": "y"
        },
        {
         "hovertemplate": "Label=%{y}<br>Timestamp in seconds=%{x}<br>value=%{marker.size}<extra></extra>",
         "legendgroup": "bpm_1",
         "marker": {
          "color": "#636efa",
          "line": {
           "color": "white",
           "width": 1
          },
          "size": [
           4620,
           6360,
           8940,
           8520
          ],
          "sizemode": "area",
          "sizeref": 110.1,
          "symbol": "circle"
         },
         "mode": "markers",
         "name": "bpm_1",
         "orientation": "v",
         "showlegend": true,
         "type": "scatter",
         "x": [
          15480,
          28140,
          50160,
          63480
         ],
         "xaxis": "x",
         "y": [
          "bpm_1",
          "bpm_1",
          "bpm_1",
          "bpm_1"
         ],
         "yaxis": "y"
        },
        {
         "hovertemplate": "Label=%{y}<br>Timestamp in seconds=%{x}<br>value=%{marker.size}<extra></extra>",
         "legendgroup": "distance_2",
         "marker": {
          "color": "#EF553B",
          "line": {
           "color": "white",
           "width": 1
          },
          "size": [
           10680,
           13800,
           12720,
           60
          ],
          "sizemode": "area",
          "sizeref": 110.1,
          "symbol": "circle"
         },
         "mode": "markers",
         "name": "distance_2",
         "orientation": "v",
         "showlegend": true,
         "type": "scatter",
         "x": [
          20220,
          30960,
          49920,
          70080
         ],
         "xaxis": "x",
         "y": [
          "distance_2",
          "distance_2",
          "distance_2",
          "distance_2"
         ],
         "yaxis": "y"
        },
        {
         "hovertemplate": "Label=%{y}<br>Timestamp in seconds=%{x}<br>value=%{marker.size}<extra></extra>",
         "legendgroup": "steps_2",
         "marker": {
          "color": "#00cc96",
          "line": {
           "color": "white",
           "width": 1
          },
          "size": [
           10680,
           13800,
           12720,
           60
          ],
          "sizemode": "area",
          "sizeref": 110.1,
          "symbol": "circle"
         },
         "mode": "markers",
         "name": "steps_2",
         "orientation": "v",
         "showlegend": true,
         "type": "scatter",
         "x": [
          20220,
          30960,
          49920,
          70080
         ],
         "xaxis": "x",
         "y": [
          "steps_2",
          "steps_2",
          "steps_2",
          "steps_2"
         ],
         "yaxis": "y"
        },
        {
         "hovertemplate": "Label=%{y}<br>Timestamp in seconds=%{x}<br>value=%{marker.size}<extra></extra>",
         "legendgroup": "bpm_4",
         "marker": {
          "color": "#ab63fa",
          "line": {
           "color": "white",
           "width": 1
          },
          "size": [
           5100,
           13860,
           11520,
           3960
          ],
          "sizemode": "area",
          "sizeref": 110.1,
          "symbol": "circle"
         },
         "mode": "markers",
         "name": "bpm_4",
         "orientation": "v",
         "showlegend": true,
         "type": "scatter",
         "x": [
          20700,
          30900,
          49980,
          67020
         ],
         "xaxis": "x",
         "y": [
          "bpm_4",
          "bpm_4",
          "bpm_4",
          "bpm_4"
         ],
         "yaxis": "y"
        },
        {
         "hovertemplate": "Label=%{y}<br>Timestamp in seconds=%{x}<br>value=%{marker.size}<extra></extra>",
         "legendgroup": "SleepScore",
         "marker": {
          "color": "#FFA15A",
          "line": {
           "color": "white",
           "width": 1
          },
          "size": [
           68
          ],
          "sizemode": "area",
          "sizeref": 110.1,
          "symbol": "circle"
         },
         "mode": "markers",
         "name": "SleepScore",
         "orientation": "v",
         "showlegend": true,
         "type": "scatter",
         "x": [
          23700
         ],
         "xaxis": "x",
         "y": [
          "SleepScore"
         ],
         "yaxis": "y"
        }
       ],
       "layout": {
        "height": 400,
        "legend": {
         "itemsizing": "constant",
         "orientation": "h",
         "title": {
          "text": "Label Legend"
         },
         "tracegroupgap": 0,
         "x": 0,
         "xanchor": "left",
         "y": 1.02,
         "yanchor": "bottom"
        },
        "margin": {
         "t": 60
        },
        "showlegend": true,
        "template": {
         "data": {
          "bar": [
           {
            "error_x": {
             "color": "#f2f5fa"
            },
            "error_y": {
             "color": "#f2f5fa"
            },
            "marker": {
             "line": {
              "color": "rgb(17,17,17)",
              "width": 0.5
             },
             "pattern": {
              "fillmode": "overlay",
              "size": 10,
              "solidity": 0.2
             }
            },
            "type": "bar"
           }
          ],
          "barpolar": [
           {
            "marker": {
             "line": {
              "color": "rgb(17,17,17)",
              "width": 0.5
             },
             "pattern": {
              "fillmode": "overlay",
              "size": 10,
              "solidity": 0.2
             }
            },
            "type": "barpolar"
           }
          ],
          "carpet": [
           {
            "aaxis": {
             "endlinecolor": "#A2B1C6",
             "gridcolor": "#506784",
             "linecolor": "#506784",
             "minorgridcolor": "#506784",
             "startlinecolor": "#A2B1C6"
            },
            "baxis": {
             "endlinecolor": "#A2B1C6",
             "gridcolor": "#506784",
             "linecolor": "#506784",
             "minorgridcolor": "#506784",
             "startlinecolor": "#A2B1C6"
            },
            "type": "carpet"
           }
          ],
          "choropleth": [
           {
            "colorbar": {
             "outlinewidth": 0,
             "ticks": ""
            },
            "type": "choropleth"
           }
          ],
          "contour": [
           {
            "colorbar": {
             "outlinewidth": 0,
             "ticks": ""
            },
            "colorscale": [
             [
              0,
              "#0d0887"
             ],
             [
              0.1111111111111111,
              "#46039f"
             ],
             [
              0.2222222222222222,
              "#7201a8"
             ],
             [
              0.3333333333333333,
              "#9c179e"
             ],
             [
              0.4444444444444444,
              "#bd3786"
             ],
             [
              0.5555555555555556,
              "#d8576b"
             ],
             [
              0.6666666666666666,
              "#ed7953"
             ],
             [
              0.7777777777777778,
              "#fb9f3a"
             ],
             [
              0.8888888888888888,
              "#fdca26"
             ],
             [
              1,
              "#f0f921"
             ]
            ],
            "type": "contour"
           }
          ],
          "contourcarpet": [
           {
            "colorbar": {
             "outlinewidth": 0,
             "ticks": ""
            },
            "type": "contourcarpet"
           }
          ],
          "heatmap": [
           {
            "colorbar": {
             "outlinewidth": 0,
             "ticks": ""
            },
            "colorscale": [
             [
              0,
              "#0d0887"
             ],
             [
              0.1111111111111111,
              "#46039f"
             ],
             [
              0.2222222222222222,
              "#7201a8"
             ],
             [
              0.3333333333333333,
              "#9c179e"
             ],
             [
              0.4444444444444444,
              "#bd3786"
             ],
             [
              0.5555555555555556,
              "#d8576b"
             ],
             [
              0.6666666666666666,
              "#ed7953"
             ],
             [
              0.7777777777777778,
              "#fb9f3a"
             ],
             [
              0.8888888888888888,
              "#fdca26"
             ],
             [
              1,
              "#f0f921"
             ]
            ],
            "type": "heatmap"
           }
          ],
          "heatmapgl": [
           {
            "colorbar": {
             "outlinewidth": 0,
             "ticks": ""
            },
            "colorscale": [
             [
              0,
              "#0d0887"
             ],
             [
              0.1111111111111111,
              "#46039f"
             ],
             [
              0.2222222222222222,
              "#7201a8"
             ],
             [
              0.3333333333333333,
              "#9c179e"
             ],
             [
              0.4444444444444444,
              "#bd3786"
             ],
             [
              0.5555555555555556,
              "#d8576b"
             ],
             [
              0.6666666666666666,
              "#ed7953"
             ],
             [
              0.7777777777777778,
              "#fb9f3a"
             ],
             [
              0.8888888888888888,
              "#fdca26"
             ],
             [
              1,
              "#f0f921"
             ]
            ],
            "type": "heatmapgl"
           }
          ],
          "histogram": [
           {
            "marker": {
             "pattern": {
              "fillmode": "overlay",
              "size": 10,
              "solidity": 0.2
             }
            },
            "type": "histogram"
           }
          ],
          "histogram2d": [
           {
            "colorbar": {
             "outlinewidth": 0,
             "ticks": ""
            },
            "colorscale": [
             [
              0,
              "#0d0887"
             ],
             [
              0.1111111111111111,
              "#46039f"
             ],
             [
              0.2222222222222222,
              "#7201a8"
             ],
             [
              0.3333333333333333,
              "#9c179e"
             ],
             [
              0.4444444444444444,
              "#bd3786"
             ],
             [
              0.5555555555555556,
              "#d8576b"
             ],
             [
              0.6666666666666666,
              "#ed7953"
             ],
             [
              0.7777777777777778,
              "#fb9f3a"
             ],
             [
              0.8888888888888888,
              "#fdca26"
             ],
             [
              1,
              "#f0f921"
             ]
            ],
            "type": "histogram2d"
           }
          ],
          "histogram2dcontour": [
           {
            "colorbar": {
             "outlinewidth": 0,
             "ticks": ""
            },
            "colorscale": [
             [
              0,
              "#0d0887"
             ],
             [
              0.1111111111111111,
              "#46039f"
             ],
             [
              0.2222222222222222,
              "#7201a8"
             ],
             [
              0.3333333333333333,
              "#9c179e"
             ],
             [
              0.4444444444444444,
              "#bd3786"
             ],
             [
              0.5555555555555556,
              "#d8576b"
             ],
             [
              0.6666666666666666,
              "#ed7953"
             ],
             [
              0.7777777777777778,
              "#fb9f3a"
             ],
             [
              0.8888888888888888,
              "#fdca26"
             ],
             [
              1,
              "#f0f921"
             ]
            ],
            "type": "histogram2dcontour"
           }
          ],
          "mesh3d": [
           {
            "colorbar": {
             "outlinewidth": 0,
             "ticks": ""
            },
            "type": "mesh3d"
           }
          ],
          "parcoords": [
           {
            "line": {
             "colorbar": {
              "outlinewidth": 0,
              "ticks": ""
             }
            },
            "type": "parcoords"
           }
          ],
          "pie": [
           {
            "automargin": true,
            "type": "pie"
           }
          ],
          "scatter": [
           {
            "marker": {
             "line": {
              "color": "#283442"
             }
            },
            "type": "scatter"
           }
          ],
          "scatter3d": [
           {
            "line": {
             "colorbar": {
              "outlinewidth": 0,
              "ticks": ""
             }
            },
            "marker": {
             "colorbar": {
              "outlinewidth": 0,
              "ticks": ""
             }
            },
            "type": "scatter3d"
           }
          ],
          "scattercarpet": [
           {
            "marker": {
             "colorbar": {
              "outlinewidth": 0,
              "ticks": ""
             }
            },
            "type": "scattercarpet"
           }
          ],
          "scattergeo": [
           {
            "marker": {
             "colorbar": {
              "outlinewidth": 0,
              "ticks": ""
             }
            },
            "type": "scattergeo"
           }
          ],
          "scattergl": [
           {
            "marker": {
             "line": {
              "color": "#283442"
             }
            },
            "type": "scattergl"
           }
          ],
          "scattermapbox": [
           {
            "marker": {
             "colorbar": {
              "outlinewidth": 0,
              "ticks": ""
             }
            },
            "type": "scattermapbox"
           }
          ],
          "scatterpolar": [
           {
            "marker": {
             "colorbar": {
              "outlinewidth": 0,
              "ticks": ""
             }
            },
            "type": "scatterpolar"
           }
          ],
          "scatterpolargl": [
           {
            "marker": {
             "colorbar": {
              "outlinewidth": 0,
              "ticks": ""
             }
            },
            "type": "scatterpolargl"
           }
          ],
          "scatterternary": [
           {
            "marker": {
             "colorbar": {
              "outlinewidth": 0,
              "ticks": ""
             }
            },
            "type": "scatterternary"
           }
          ],
          "surface": [
           {
            "colorbar": {
             "outlinewidth": 0,
             "ticks": ""
            },
            "colorscale": [
             [
              0,
              "#0d0887"
             ],
             [
              0.1111111111111111,
              "#46039f"
             ],
             [
              0.2222222222222222,
              "#7201a8"
             ],
             [
              0.3333333333333333,
              "#9c179e"
             ],
             [
              0.4444444444444444,
              "#bd3786"
             ],
             [
              0.5555555555555556,
              "#d8576b"
             ],
             [
              0.6666666666666666,
              "#ed7953"
             ],
             [
              0.7777777777777778,
              "#fb9f3a"
             ],
             [
              0.8888888888888888,
              "#fdca26"
             ],
             [
              1,
              "#f0f921"
             ]
            ],
            "type": "surface"
           }
          ],
          "table": [
           {
            "cells": {
             "fill": {
              "color": "#506784"
             },
             "line": {
              "color": "rgb(17,17,17)"
             }
            },
            "header": {
             "fill": {
              "color": "#2a3f5f"
             },
             "line": {
              "color": "rgb(17,17,17)"
             }
            },
            "type": "table"
           }
          ]
         },
         "layout": {
          "annotationdefaults": {
           "arrowcolor": "#f2f5fa",
           "arrowhead": 0,
           "arrowwidth": 1
          },
          "autotypenumbers": "strict",
          "coloraxis": {
           "colorbar": {
            "outlinewidth": 0,
            "ticks": ""
           }
          },
          "colorscale": {
           "diverging": [
            [
             0,
             "#8e0152"
            ],
            [
             0.1,
             "#c51b7d"
            ],
            [
             0.2,
             "#de77ae"
            ],
            [
             0.3,
             "#f1b6da"
            ],
            [
             0.4,
             "#fde0ef"
            ],
            [
             0.5,
             "#f7f7f7"
            ],
            [
             0.6,
             "#e6f5d0"
            ],
            [
             0.7,
             "#b8e186"
            ],
            [
             0.8,
             "#7fbc41"
            ],
            [
             0.9,
             "#4d9221"
            ],
            [
             1,
             "#276419"
            ]
           ],
           "sequential": [
            [
             0,
             "#0d0887"
            ],
            [
             0.1111111111111111,
             "#46039f"
            ],
            [
             0.2222222222222222,
             "#7201a8"
            ],
            [
             0.3333333333333333,
             "#9c179e"
            ],
            [
             0.4444444444444444,
             "#bd3786"
            ],
            [
             0.5555555555555556,
             "#d8576b"
            ],
            [
             0.6666666666666666,
             "#ed7953"
            ],
            [
             0.7777777777777778,
             "#fb9f3a"
            ],
            [
             0.8888888888888888,
             "#fdca26"
            ],
            [
             1,
             "#f0f921"
            ]
           ],
           "sequentialminus": [
            [
             0,
             "#0d0887"
            ],
            [
             0.1111111111111111,
             "#46039f"
            ],
            [
             0.2222222222222222,
             "#7201a8"
            ],
            [
             0.3333333333333333,
             "#9c179e"
            ],
            [
             0.4444444444444444,
             "#bd3786"
            ],
            [
             0.5555555555555556,
             "#d8576b"
            ],
            [
             0.6666666666666666,
             "#ed7953"
            ],
            [
             0.7777777777777778,
             "#fb9f3a"
            ],
            [
             0.8888888888888888,
             "#fdca26"
            ],
            [
             1,
             "#f0f921"
            ]
           ]
          },
          "colorway": [
           "#636efa",
           "#EF553B",
           "#00cc96",
           "#ab63fa",
           "#FFA15A",
           "#19d3f3",
           "#FF6692",
           "#B6E880",
           "#FF97FF",
           "#FECB52"
          ],
          "font": {
           "color": "#f2f5fa"
          },
          "geo": {
           "bgcolor": "rgb(17,17,17)",
           "lakecolor": "rgb(17,17,17)",
           "landcolor": "rgb(17,17,17)",
           "showlakes": true,
           "showland": true,
           "subunitcolor": "#506784"
          },
          "hoverlabel": {
           "align": "left"
          },
          "hovermode": "closest",
          "mapbox": {
           "style": "dark"
          },
          "paper_bgcolor": "rgb(17,17,17)",
          "plot_bgcolor": "rgb(17,17,17)",
          "polar": {
           "angularaxis": {
            "gridcolor": "#506784",
            "linecolor": "#506784",
            "ticks": ""
           },
           "bgcolor": "rgb(17,17,17)",
           "radialaxis": {
            "gridcolor": "#506784",
            "linecolor": "#506784",
            "ticks": ""
           }
          },
          "scene": {
           "xaxis": {
            "backgroundcolor": "rgb(17,17,17)",
            "gridcolor": "#506784",
            "gridwidth": 2,
            "linecolor": "#506784",
            "showbackground": true,
            "ticks": "",
            "zerolinecolor": "#C8D4E3"
           },
           "yaxis": {
            "backgroundcolor": "rgb(17,17,17)",
            "gridcolor": "#506784",
            "gridwidth": 2,
            "linecolor": "#506784",
            "showbackground": true,
            "ticks": "",
            "zerolinecolor": "#C8D4E3"
           },
           "zaxis": {
            "backgroundcolor": "rgb(17,17,17)",
            "gridcolor": "#506784",
            "gridwidth": 2,
            "linecolor": "#506784",
            "showbackground": true,
            "ticks": "",
            "zerolinecolor": "#C8D4E3"
           }
          },
          "shapedefaults": {
           "line": {
            "color": "#f2f5fa"
           }
          },
          "sliderdefaults": {
           "bgcolor": "#C8D4E3",
           "bordercolor": "rgb(17,17,17)",
           "borderwidth": 1,
           "tickwidth": 0
          },
          "ternary": {
           "aaxis": {
            "gridcolor": "#506784",
            "linecolor": "#506784",
            "ticks": ""
           },
           "baxis": {
            "gridcolor": "#506784",
            "linecolor": "#506784",
            "ticks": ""
           },
           "bgcolor": "rgb(17,17,17)",
           "caxis": {
            "gridcolor": "#506784",
            "linecolor": "#506784",
            "ticks": ""
           }
          },
          "title": {
           "x": 0.05
          },
          "updatemenudefaults": {
           "bgcolor": "#506784",
           "borderwidth": 0
          },
          "xaxis": {
           "automargin": true,
           "gridcolor": "#283442",
           "linecolor": "#506784",
           "ticks": "",
           "title": {
            "standoff": 15
           },
           "zerolinecolor": "#283442",
           "zerolinewidth": 2
          },
          "yaxis": {
           "automargin": true,
           "gridcolor": "#283442",
           "linecolor": "#506784",
           "ticks": "",
           "title": {
            "standoff": 15
           },
           "zerolinecolor": "#283442",
           "zerolinewidth": 2
          }
         }
        },
        "width": 800,
        "xaxis": {
         "anchor": "y",
         "domain": [
          0,
          1
         ],
         "title": {
          "text": "Timestamp in seconds"
         }
        },
        "yaxis": {
         "anchor": "x",
         "categoryarray": [
          "SleepScore",
          "bpm_4",
          "steps_2",
          "distance_2",
          "bpm_1",
          "rem",
          "bpm_3",
          "wake",
          "light",
          "deep",
          "calories_3",
          "bpm_2",
          "steps_1",
          "distance_1",
          "calories_4"
         ],
         "categoryorder": "array",
         "domain": [
          0,
          1
         ],
         "title": {
          "text": "Label"
         }
        }
       }
      }
     },
     "metadata": {},
     "output_type": "display_data"
    }
   ],
   "source": [
    "#!pip install plotly\n",
    "import plotly.express as px\n",
    "\n",
    "def show_sequence(odf, i):\n",
    "\n",
    "    data = odf[odf[\"i\"] == i]\n",
    "        \n",
    "    fig = px.scatter(data, x=\"vt\", y=\"label\", size=\"value\", color=\"label\", labels={\"label\": \"Label\", \"vt\": \"Timestamp in seconds\", \"value\": \"value\"}, \n",
    "                        template=\"plotly_dark\", width=800, height=400)\n",
    "        \n",
    "    fig.update_layout(showlegend=True, legend=dict(title_text=\"Label Legend\", orientation=\"h\", yanchor=\"bottom\", y=1.02, xanchor=\"left\", x=0))\n",
    "    fig.update_traces(marker=dict(line=dict(width=1, color=\"white\")), selector=dict(mode='markers'))\n",
    "\n",
    "    fig.show()\n",
    "\n",
    "show_sequence(final_odf, 3)\n"
   ]
  },
  {
   "cell_type": "markdown",
   "metadata": {},
   "source": [
    "### Timeline"
   ]
  },
  {
   "cell_type": "code",
   "execution_count": 238,
   "metadata": {},
   "outputs": [
    {
     "name": "stderr",
     "output_type": "stream",
     "text": [
      "/var/folders/km/tq9jcfv91lqb_rwy4mw5cy780000gn/T/ipykernel_3173/1303515353.py:16: FutureWarning:\n",
      "\n",
      "DataFrame.fillna with 'method' is deprecated and will raise in a future version. Use obj.ffill() or obj.bfill() instead.\n",
      "\n"
     ]
    },
    {
     "data": {
      "application/vnd.plotly.v1+json": {
       "config": {
        "plotlyServerURL": "https://plot.ly"
       },
       "data": [
        {
         "alignmentgroup": "True",
         "base": [
          "1970-01-01T00:00:00",
          "1970-01-01T09:33:00",
          "1970-01-01T17:15:00"
         ],
         "customdata": [
          [
           33660
          ],
          [
           23460
          ],
          [
           9420
          ]
         ],
         "hovertemplate": "label=%{y}<br>vt=%{base}<br>end_time=%{x}<br>value=%{customdata[0]}<extra></extra>",
         "legendgroup": "calories_3",
         "marker": {
          "color": "#636efa",
          "pattern": {
           "shape": ""
          }
         },
         "name": "calories_3",
         "offsetgroup": "calories_3",
         "orientation": "h",
         "showlegend": true,
         "textposition": "auto",
         "type": "bar",
         "x": [
          30000,
          180000,
          0
         ],
         "xaxis": "x",
         "y": [
          "calories_3",
          "calories_3",
          "calories_3"
         ],
         "yaxis": "y"
        },
        {
         "alignmentgroup": "True",
         "base": [
          "1970-01-01T00:00:00",
          "1970-01-01T06:56:00",
          "1970-01-01T12:29:00"
         ],
         "customdata": [
          [
           22980
          ],
          [
           19920
          ],
          [
           27060
          ]
         ],
         "hovertemplate": "label=%{y}<br>vt=%{base}<br>end_time=%{x}<br>value=%{customdata[0]}<extra></extra>",
         "legendgroup": "distance_1",
         "marker": {
          "color": "#EF553B",
          "pattern": {
           "shape": ""
          }
         },
         "name": "distance_1",
         "offsetgroup": "distance_1",
         "orientation": "h",
         "showlegend": true,
         "textposition": "auto",
         "type": "bar",
         "x": [
          30000,
          0,
          0
         ],
         "xaxis": "x",
         "y": [
          "distance_1",
          "distance_1",
          "distance_1"
         ],
         "yaxis": "y"
        },
        {
         "alignmentgroup": "True",
         "base": [
          "1970-01-01T00:00:00",
          "1970-01-01T06:56:00",
          "1970-01-01T12:29:00"
         ],
         "customdata": [
          [
           22980
          ],
          [
           19920
          ],
          [
           27060
          ]
         ],
         "hovertemplate": "label=%{y}<br>vt=%{base}<br>end_time=%{x}<br>value=%{customdata[0]}<extra></extra>",
         "legendgroup": "steps_1",
         "marker": {
          "color": "#00cc96",
          "pattern": {
           "shape": ""
          }
         },
         "name": "steps_1",
         "offsetgroup": "steps_1",
         "orientation": "h",
         "showlegend": true,
         "textposition": "auto",
         "type": "bar",
         "x": [
          30000,
          480000,
          1080000
         ],
         "xaxis": "x",
         "y": [
          "steps_1",
          "steps_1",
          "steps_1"
         ],
         "yaxis": "y"
        },
        {
         "alignmentgroup": "True",
         "base": [
          "1970-01-01T00:00:00",
          "1970-01-01T10:29:00"
         ],
         "customdata": [
          [
           37620
          ],
          [
           34260
          ]
         ],
         "hovertemplate": "label=%{y}<br>vt=%{base}<br>end_time=%{x}<br>value=%{customdata[0]}<extra></extra>",
         "legendgroup": "bpm_2",
         "marker": {
          "color": "#ab63fa",
          "pattern": {
           "shape": ""
          }
         },
         "name": "bpm_2",
         "offsetgroup": "bpm_2",
         "orientation": "h",
         "showlegend": true,
         "textposition": "auto",
         "type": "bar",
         "x": [
          30000,
          2383000
         ],
         "xaxis": "x",
         "y": [
          "bpm_2",
          "bpm_2"
         ],
         "yaxis": "y"
        },
        {
         "alignmentgroup": "True",
         "base": [
          "1970-01-01T00:00:30",
          "1970-01-01T01:49:30",
          "1970-01-01T03:02:30",
          "1970-01-01T03:56:30",
          "1970-01-01T04:21:00"
         ],
         "customdata": [
          [
           1860
          ],
          [
           1260
          ],
          [
           600
          ],
          [
           360
          ],
          [
           360
          ]
         ],
         "hovertemplate": "label=%{y}<br>vt=%{base}<br>end_time=%{x}<br>value=%{customdata[0]}<extra></extra>",
         "legendgroup": "deep",
         "marker": {
          "color": "#FFA15A",
          "pattern": {
           "shape": ""
          }
         },
         "name": "deep",
         "offsetgroup": "deep",
         "orientation": "h",
         "showlegend": true,
         "textposition": "auto",
         "type": "bar",
         "x": [
          1860000,
          1260000,
          210000,
          360000,
          360000
         ],
         "xaxis": "x",
         "y": [
          "deep",
          "deep",
          "deep",
          "deep",
          "deep"
         ],
         "yaxis": "y"
        },
        {
         "alignmentgroup": "True",
         "base": [
          "1970-01-01T00:31:30",
          "1970-01-01T01:02:00",
          "1970-01-01T01:15:00",
          "1970-01-01T02:10:30",
          "1970-01-01T02:38:00",
          "1970-01-01T03:12:30",
          "1970-01-01T03:42:00",
          "1970-01-01T04:02:30",
          "1970-01-01T04:11:00",
          "1970-01-01T04:27:00",
          "1970-01-01T04:43:30",
          "1970-01-01T05:52:30"
         ],
         "customdata": [
          [
           270
          ],
          [
           450
          ],
          [
           2070
          ],
          [
           450
          ],
          [
           1470
          ],
          [
           1440
          ],
          [
           870
          ],
          [
           150
          ],
          [
           600
          ],
          [
           330
          ],
          [
           1710
          ],
          [
           2940
          ]
         ],
         "hovertemplate": "label=%{y}<br>vt=%{base}<br>end_time=%{x}<br>value=%{customdata[0]}<extra></extra>",
         "legendgroup": "light",
         "marker": {
          "color": "#19d3f3",
          "pattern": {
           "shape": ""
          }
         },
         "name": "light",
         "offsetgroup": "light",
         "orientation": "h",
         "showlegend": true,
         "textposition": "auto",
         "type": "bar",
         "x": [
          270000,
          450000,
          1200000,
          450000,
          1470000,
          150000,
          870000,
          150000,
          600000,
          330000,
          1710000,
          870000
         ],
         "xaxis": "x",
         "y": [
          "light",
          "light",
          "light",
          "light",
          "light",
          "light",
          "light",
          "light",
          "light",
          "light",
          "light",
          "light"
         ],
         "yaxis": "y"
        },
        {
         "alignmentgroup": "True",
         "base": [
          "1970-01-01T00:36:00",
          "1970-01-01T01:09:30",
          "1970-01-01T02:18:00",
          "1970-01-01T03:36:30",
          "1970-01-01T04:32:30",
          "1970-01-01T05:18:00"
         ],
         "customdata": [
          [
           1560
          ],
          [
           330
          ],
          [
           1200
          ],
          [
           330
          ],
          [
           660
          ],
          [
           1800
          ]
         ],
         "hovertemplate": "label=%{y}<br>vt=%{base}<br>end_time=%{x}<br>value=%{customdata[0]}<extra></extra>",
         "legendgroup": "rem",
         "marker": {
          "color": "#FF6692",
          "pattern": {
           "shape": ""
          }
         },
         "name": "rem",
         "offsetgroup": "rem",
         "orientation": "h",
         "showlegend": true,
         "textposition": "auto",
         "type": "bar",
         "x": [
          420000,
          90000,
          1200000,
          330000,
          660000,
          1800000
         ],
         "xaxis": "x",
         "y": [
          "rem",
          "rem",
          "rem",
          "rem",
          "rem",
          "rem"
         ],
         "yaxis": "y"
        },
        {
         "alignmentgroup": "True",
         "base": [
          "1970-01-01T00:43:00",
          "1970-01-01T07:04:00",
          "1970-01-01T12:49:00",
          "1970-01-01T15:18:00"
         ],
         "customdata": [
          [
           14340
          ],
          [
           20640
          ],
          [
           8880
          ],
          [
           16920
          ]
         ],
         "hovertemplate": "label=%{y}<br>vt=%{base}<br>end_time=%{x}<br>value=%{customdata[0]}<extra></extra>",
         "legendgroup": "calories_4",
         "marker": {
          "color": "#B6E880",
          "pattern": {
           "shape": ""
          }
         },
         "name": "calories_4",
         "offsetgroup": "calories_4",
         "orientation": "h",
         "showlegend": true,
         "textposition": "auto",
         "type": "bar",
         "x": [
          1140000,
          8940000,
          4200000,
          7020000
         ],
         "xaxis": "x",
         "y": [
          "calories_4",
          "calories_4",
          "calories_4",
          "calories_4"
         ],
         "yaxis": "y"
        },
        {
         "alignmentgroup": "True",
         "base": [
          "1970-01-01T01:11:00",
          "1970-01-01T06:07:00",
          "1970-01-01T12:47:00"
         ],
         "customdata": [
          [
           0
          ],
          [
           18060
          ],
          [
           24360
          ]
         ],
         "hovertemplate": "label=%{y}<br>vt=%{base}<br>end_time=%{x}<br>value=%{customdata[0]}<extra></extra>",
         "legendgroup": "bpm_3",
         "marker": {
          "color": "#FF97FF",
          "pattern": {
           "shape": ""
          }
         },
         "name": "bpm_3",
         "offsetgroup": "bpm_3",
         "orientation": "h",
         "showlegend": true,
         "textposition": "auto",
         "type": "bar",
         "x": [
          240000,
          1020000,
          120000
         ],
         "xaxis": "x",
         "y": [
          "bpm_3",
          "bpm_3",
          "bpm_3"
         ],
         "yaxis": "y"
        },
        {
         "alignmentgroup": "True",
         "base": [
          "1970-01-01T01:35:00",
          "1970-01-01T03:15:00",
          "1970-01-01T09:50:00"
         ],
         "customdata": [
          [
           0
          ],
          [
           16260
          ],
          [
           16020
          ]
         ],
         "hovertemplate": "label=%{y}<br>vt=%{base}<br>end_time=%{x}<br>value=%{customdata[0]}<extra></extra>",
         "legendgroup": "bpm_1",
         "marker": {
          "color": "#FECB52",
          "pattern": {
           "shape": ""
          }
         },
         "name": "bpm_1",
         "offsetgroup": "bpm_1",
         "orientation": "h",
         "showlegend": true,
         "textposition": "auto",
         "type": "bar",
         "x": [
          870000,
          1290000,
          2340000
         ],
         "xaxis": "x",
         "y": [
          "bpm_1",
          "bpm_1",
          "bpm_1"
         ],
         "yaxis": "y"
        },
        {
         "alignmentgroup": "True",
         "base": [
          "1970-01-01T03:06:00",
          "1970-01-01T06:41:00",
          "1970-01-01T13:59:00"
         ],
         "customdata": [
          [
           12840
          ],
          [
           22020
          ],
          [
           19860
          ]
         ],
         "hovertemplate": "label=%{y}<br>vt=%{base}<br>end_time=%{x}<br>value=%{customdata[0]}<extra></extra>",
         "legendgroup": "distance_2",
         "marker": {
          "color": "#636efa",
          "pattern": {
           "shape": ""
          }
         },
         "name": "distance_2",
         "offsetgroup": "distance_2",
         "orientation": "h",
         "showlegend": true,
         "textposition": "auto",
         "type": "bar",
         "x": [
          0,
          0,
          0
         ],
         "xaxis": "x",
         "y": [
          "distance_2",
          "distance_2",
          "distance_2"
         ],
         "yaxis": "y"
        },
        {
         "alignmentgroup": "True",
         "base": [
          "1970-01-01T03:06:00",
          "1970-01-01T06:41:00",
          "1970-01-01T13:59:00"
         ],
         "customdata": [
          [
           12840
          ],
          [
           22020
          ],
          [
           19860
          ]
         ],
         "hovertemplate": "label=%{y}<br>vt=%{base}<br>end_time=%{x}<br>value=%{customdata[0]}<extra></extra>",
         "legendgroup": "steps_2",
         "marker": {
          "color": "#EF553B",
          "pattern": {
           "shape": ""
          }
         },
         "name": "steps_2",
         "offsetgroup": "steps_2",
         "orientation": "h",
         "showlegend": true,
         "textposition": "auto",
         "type": "bar",
         "x": [
          390000,
          30000,
          660000
         ],
         "xaxis": "x",
         "y": [
          "steps_2",
          "steps_2",
          "steps_2"
         ],
         "yaxis": "y"
        },
        {
         "alignmentgroup": "True",
         "base": [
          "1970-01-01T04:05:00",
          "1970-01-01T05:12:00",
          "1970-01-01T05:48:00",
          "1970-01-01T06:41:30"
         ],
         "customdata": [
          [
           360
          ],
          [
           360
          ],
          [
           270
          ],
          [
           810
          ]
         ],
         "hovertemplate": "label=%{y}<br>vt=%{base}<br>end_time=%{x}<br>value=%{customdata[0]}<extra></extra>",
         "legendgroup": "wake",
         "marker": {
          "color": "#00cc96",
          "pattern": {
           "shape": ""
          }
         },
         "name": "wake",
         "offsetgroup": "wake",
         "orientation": "h",
         "showlegend": true,
         "textposition": "auto",
         "type": "bar",
         "x": [
          360000,
          360000,
          270000,
          810000
         ],
         "xaxis": "x",
         "y": [
          "wake",
          "wake",
          "wake",
          "wake"
         ],
         "yaxis": "y"
        },
        {
         "alignmentgroup": "True",
         "base": [
          "1970-01-01T06:24:00",
          "1970-01-01T09:36:00",
          "1970-01-01T14:10:00",
          "1970-01-01T17:15:00"
         ],
         "customdata": [
          [
           10320
          ],
          [
           11580
          ],
          [
           7080
          ],
          [
           8160
          ]
         ],
         "hovertemplate": "label=%{y}<br>vt=%{base}<br>end_time=%{x}<br>value=%{customdata[0]}<extra></extra>",
         "legendgroup": "bpm_4",
         "marker": {
          "color": "#ab63fa",
          "pattern": {
           "shape": ""
          }
         },
         "name": "bpm_4",
         "offsetgroup": "bpm_4",
         "orientation": "h",
         "showlegend": true,
         "textposition": "auto",
         "type": "bar",
         "x": [
          176000,
          840000,
          4080000,
          7196000
         ],
         "xaxis": "x",
         "y": [
          "bpm_4",
          "bpm_4",
          "bpm_4",
          "bpm_4"
         ],
         "yaxis": "y"
        },
        {
         "alignmentgroup": "True",
         "base": [
          "1970-01-01T06:26:56",
          "1970-01-01T19:14:56"
         ],
         "customdata": [
          [
           1741000
          ],
          [
           973000
          ]
         ],
         "hovertemplate": "label=%{y}<br>vt=%{base}<br>end_time=%{x}<br>value=%{customdata[0]}<extra></extra>",
         "legendgroup": "Walk",
         "marker": {
          "color": "#FFA15A",
          "pattern": {
           "shape": ""
          }
         },
         "name": "Walk",
         "offsetgroup": "Walk",
         "orientation": "h",
         "showlegend": true,
         "textposition": "auto",
         "type": "bar",
         "x": [
          844000,
          0
         ],
         "xaxis": "x",
         "y": [
          "Walk",
          "Walk"
         ],
         "yaxis": "y"
        },
        {
         "alignmentgroup": "True",
         "base": [
          "1970-01-01T06:55:00"
         ],
         "customdata": [
          [
           74
          ]
         ],
         "hovertemplate": "label=%{y}<br>vt=%{base}<br>end_time=%{x}<br>value=%{customdata[0]}<extra></extra>",
         "legendgroup": "SleepScore",
         "marker": {
          "color": "#19d3f3",
          "pattern": {
           "shape": ""
          }
         },
         "name": "SleepScore",
         "offsetgroup": "SleepScore",
         "orientation": "h",
         "showlegend": true,
         "textposition": "auto",
         "type": "bar",
         "x": [
          60000
         ],
         "xaxis": "x",
         "y": [
          "SleepScore"
         ],
         "yaxis": "y"
        },
        {
         "alignmentgroup": "True",
         "base": [
          "1970-01-01T11:08:43"
         ],
         "customdata": [
          [
           2474000
          ]
         ],
         "hovertemplate": "label=%{y}<br>vt=%{base}<br>end_time=%{x}<br>value=%{customdata[0]}<extra></extra>",
         "legendgroup": "Run",
         "marker": {
          "color": "#FF6692",
          "pattern": {
           "shape": ""
          }
         },
         "name": "Run",
         "offsetgroup": "Run",
         "orientation": "h",
         "showlegend": true,
         "textposition": "auto",
         "type": "bar",
         "x": [
          4817000
         ],
         "xaxis": "x",
         "y": [
          "Run"
         ],
         "yaxis": "y"
        }
       ],
       "layout": {
        "barmode": "overlay",
        "legend": {
         "orientation": "h",
         "title": {
          "text": "Label Legend"
         },
         "tracegroupgap": 0,
         "x": 0,
         "xanchor": "left",
         "y": 1.02,
         "yanchor": "bottom"
        },
        "margin": {
         "t": 60
        },
        "showlegend": true,
        "template": {
         "data": {
          "bar": [
           {
            "error_x": {
             "color": "#2a3f5f"
            },
            "error_y": {
             "color": "#2a3f5f"
            },
            "marker": {
             "line": {
              "color": "#E5ECF6",
              "width": 0.5
             },
             "pattern": {
              "fillmode": "overlay",
              "size": 10,
              "solidity": 0.2
             }
            },
            "type": "bar"
           }
          ],
          "barpolar": [
           {
            "marker": {
             "line": {
              "color": "#E5ECF6",
              "width": 0.5
             },
             "pattern": {
              "fillmode": "overlay",
              "size": 10,
              "solidity": 0.2
             }
            },
            "type": "barpolar"
           }
          ],
          "carpet": [
           {
            "aaxis": {
             "endlinecolor": "#2a3f5f",
             "gridcolor": "white",
             "linecolor": "white",
             "minorgridcolor": "white",
             "startlinecolor": "#2a3f5f"
            },
            "baxis": {
             "endlinecolor": "#2a3f5f",
             "gridcolor": "white",
             "linecolor": "white",
             "minorgridcolor": "white",
             "startlinecolor": "#2a3f5f"
            },
            "type": "carpet"
           }
          ],
          "choropleth": [
           {
            "colorbar": {
             "outlinewidth": 0,
             "ticks": ""
            },
            "type": "choropleth"
           }
          ],
          "contour": [
           {
            "colorbar": {
             "outlinewidth": 0,
             "ticks": ""
            },
            "colorscale": [
             [
              0,
              "#0d0887"
             ],
             [
              0.1111111111111111,
              "#46039f"
             ],
             [
              0.2222222222222222,
              "#7201a8"
             ],
             [
              0.3333333333333333,
              "#9c179e"
             ],
             [
              0.4444444444444444,
              "#bd3786"
             ],
             [
              0.5555555555555556,
              "#d8576b"
             ],
             [
              0.6666666666666666,
              "#ed7953"
             ],
             [
              0.7777777777777778,
              "#fb9f3a"
             ],
             [
              0.8888888888888888,
              "#fdca26"
             ],
             [
              1,
              "#f0f921"
             ]
            ],
            "type": "contour"
           }
          ],
          "contourcarpet": [
           {
            "colorbar": {
             "outlinewidth": 0,
             "ticks": ""
            },
            "type": "contourcarpet"
           }
          ],
          "heatmap": [
           {
            "colorbar": {
             "outlinewidth": 0,
             "ticks": ""
            },
            "colorscale": [
             [
              0,
              "#0d0887"
             ],
             [
              0.1111111111111111,
              "#46039f"
             ],
             [
              0.2222222222222222,
              "#7201a8"
             ],
             [
              0.3333333333333333,
              "#9c179e"
             ],
             [
              0.4444444444444444,
              "#bd3786"
             ],
             [
              0.5555555555555556,
              "#d8576b"
             ],
             [
              0.6666666666666666,
              "#ed7953"
             ],
             [
              0.7777777777777778,
              "#fb9f3a"
             ],
             [
              0.8888888888888888,
              "#fdca26"
             ],
             [
              1,
              "#f0f921"
             ]
            ],
            "type": "heatmap"
           }
          ],
          "heatmapgl": [
           {
            "colorbar": {
             "outlinewidth": 0,
             "ticks": ""
            },
            "colorscale": [
             [
              0,
              "#0d0887"
             ],
             [
              0.1111111111111111,
              "#46039f"
             ],
             [
              0.2222222222222222,
              "#7201a8"
             ],
             [
              0.3333333333333333,
              "#9c179e"
             ],
             [
              0.4444444444444444,
              "#bd3786"
             ],
             [
              0.5555555555555556,
              "#d8576b"
             ],
             [
              0.6666666666666666,
              "#ed7953"
             ],
             [
              0.7777777777777778,
              "#fb9f3a"
             ],
             [
              0.8888888888888888,
              "#fdca26"
             ],
             [
              1,
              "#f0f921"
             ]
            ],
            "type": "heatmapgl"
           }
          ],
          "histogram": [
           {
            "marker": {
             "pattern": {
              "fillmode": "overlay",
              "size": 10,
              "solidity": 0.2
             }
            },
            "type": "histogram"
           }
          ],
          "histogram2d": [
           {
            "colorbar": {
             "outlinewidth": 0,
             "ticks": ""
            },
            "colorscale": [
             [
              0,
              "#0d0887"
             ],
             [
              0.1111111111111111,
              "#46039f"
             ],
             [
              0.2222222222222222,
              "#7201a8"
             ],
             [
              0.3333333333333333,
              "#9c179e"
             ],
             [
              0.4444444444444444,
              "#bd3786"
             ],
             [
              0.5555555555555556,
              "#d8576b"
             ],
             [
              0.6666666666666666,
              "#ed7953"
             ],
             [
              0.7777777777777778,
              "#fb9f3a"
             ],
             [
              0.8888888888888888,
              "#fdca26"
             ],
             [
              1,
              "#f0f921"
             ]
            ],
            "type": "histogram2d"
           }
          ],
          "histogram2dcontour": [
           {
            "colorbar": {
             "outlinewidth": 0,
             "ticks": ""
            },
            "colorscale": [
             [
              0,
              "#0d0887"
             ],
             [
              0.1111111111111111,
              "#46039f"
             ],
             [
              0.2222222222222222,
              "#7201a8"
             ],
             [
              0.3333333333333333,
              "#9c179e"
             ],
             [
              0.4444444444444444,
              "#bd3786"
             ],
             [
              0.5555555555555556,
              "#d8576b"
             ],
             [
              0.6666666666666666,
              "#ed7953"
             ],
             [
              0.7777777777777778,
              "#fb9f3a"
             ],
             [
              0.8888888888888888,
              "#fdca26"
             ],
             [
              1,
              "#f0f921"
             ]
            ],
            "type": "histogram2dcontour"
           }
          ],
          "mesh3d": [
           {
            "colorbar": {
             "outlinewidth": 0,
             "ticks": ""
            },
            "type": "mesh3d"
           }
          ],
          "parcoords": [
           {
            "line": {
             "colorbar": {
              "outlinewidth": 0,
              "ticks": ""
             }
            },
            "type": "parcoords"
           }
          ],
          "pie": [
           {
            "automargin": true,
            "type": "pie"
           }
          ],
          "scatter": [
           {
            "fillpattern": {
             "fillmode": "overlay",
             "size": 10,
             "solidity": 0.2
            },
            "type": "scatter"
           }
          ],
          "scatter3d": [
           {
            "line": {
             "colorbar": {
              "outlinewidth": 0,
              "ticks": ""
             }
            },
            "marker": {
             "colorbar": {
              "outlinewidth": 0,
              "ticks": ""
             }
            },
            "type": "scatter3d"
           }
          ],
          "scattercarpet": [
           {
            "marker": {
             "colorbar": {
              "outlinewidth": 0,
              "ticks": ""
             }
            },
            "type": "scattercarpet"
           }
          ],
          "scattergeo": [
           {
            "marker": {
             "colorbar": {
              "outlinewidth": 0,
              "ticks": ""
             }
            },
            "type": "scattergeo"
           }
          ],
          "scattergl": [
           {
            "marker": {
             "colorbar": {
              "outlinewidth": 0,
              "ticks": ""
             }
            },
            "type": "scattergl"
           }
          ],
          "scattermapbox": [
           {
            "marker": {
             "colorbar": {
              "outlinewidth": 0,
              "ticks": ""
             }
            },
            "type": "scattermapbox"
           }
          ],
          "scatterpolar": [
           {
            "marker": {
             "colorbar": {
              "outlinewidth": 0,
              "ticks": ""
             }
            },
            "type": "scatterpolar"
           }
          ],
          "scatterpolargl": [
           {
            "marker": {
             "colorbar": {
              "outlinewidth": 0,
              "ticks": ""
             }
            },
            "type": "scatterpolargl"
           }
          ],
          "scatterternary": [
           {
            "marker": {
             "colorbar": {
              "outlinewidth": 0,
              "ticks": ""
             }
            },
            "type": "scatterternary"
           }
          ],
          "surface": [
           {
            "colorbar": {
             "outlinewidth": 0,
             "ticks": ""
            },
            "colorscale": [
             [
              0,
              "#0d0887"
             ],
             [
              0.1111111111111111,
              "#46039f"
             ],
             [
              0.2222222222222222,
              "#7201a8"
             ],
             [
              0.3333333333333333,
              "#9c179e"
             ],
             [
              0.4444444444444444,
              "#bd3786"
             ],
             [
              0.5555555555555556,
              "#d8576b"
             ],
             [
              0.6666666666666666,
              "#ed7953"
             ],
             [
              0.7777777777777778,
              "#fb9f3a"
             ],
             [
              0.8888888888888888,
              "#fdca26"
             ],
             [
              1,
              "#f0f921"
             ]
            ],
            "type": "surface"
           }
          ],
          "table": [
           {
            "cells": {
             "fill": {
              "color": "#EBF0F8"
             },
             "line": {
              "color": "white"
             }
            },
            "header": {
             "fill": {
              "color": "#C8D4E3"
             },
             "line": {
              "color": "white"
             }
            },
            "type": "table"
           }
          ]
         },
         "layout": {
          "annotationdefaults": {
           "arrowcolor": "#2a3f5f",
           "arrowhead": 0,
           "arrowwidth": 1
          },
          "autotypenumbers": "strict",
          "coloraxis": {
           "colorbar": {
            "outlinewidth": 0,
            "ticks": ""
           }
          },
          "colorscale": {
           "diverging": [
            [
             0,
             "#8e0152"
            ],
            [
             0.1,
             "#c51b7d"
            ],
            [
             0.2,
             "#de77ae"
            ],
            [
             0.3,
             "#f1b6da"
            ],
            [
             0.4,
             "#fde0ef"
            ],
            [
             0.5,
             "#f7f7f7"
            ],
            [
             0.6,
             "#e6f5d0"
            ],
            [
             0.7,
             "#b8e186"
            ],
            [
             0.8,
             "#7fbc41"
            ],
            [
             0.9,
             "#4d9221"
            ],
            [
             1,
             "#276419"
            ]
           ],
           "sequential": [
            [
             0,
             "#0d0887"
            ],
            [
             0.1111111111111111,
             "#46039f"
            ],
            [
             0.2222222222222222,
             "#7201a8"
            ],
            [
             0.3333333333333333,
             "#9c179e"
            ],
            [
             0.4444444444444444,
             "#bd3786"
            ],
            [
             0.5555555555555556,
             "#d8576b"
            ],
            [
             0.6666666666666666,
             "#ed7953"
            ],
            [
             0.7777777777777778,
             "#fb9f3a"
            ],
            [
             0.8888888888888888,
             "#fdca26"
            ],
            [
             1,
             "#f0f921"
            ]
           ],
           "sequentialminus": [
            [
             0,
             "#0d0887"
            ],
            [
             0.1111111111111111,
             "#46039f"
            ],
            [
             0.2222222222222222,
             "#7201a8"
            ],
            [
             0.3333333333333333,
             "#9c179e"
            ],
            [
             0.4444444444444444,
             "#bd3786"
            ],
            [
             0.5555555555555556,
             "#d8576b"
            ],
            [
             0.6666666666666666,
             "#ed7953"
            ],
            [
             0.7777777777777778,
             "#fb9f3a"
            ],
            [
             0.8888888888888888,
             "#fdca26"
            ],
            [
             1,
             "#f0f921"
            ]
           ]
          },
          "colorway": [
           "#636efa",
           "#EF553B",
           "#00cc96",
           "#ab63fa",
           "#FFA15A",
           "#19d3f3",
           "#FF6692",
           "#B6E880",
           "#FF97FF",
           "#FECB52"
          ],
          "font": {
           "color": "#2a3f5f"
          },
          "geo": {
           "bgcolor": "white",
           "lakecolor": "white",
           "landcolor": "#E5ECF6",
           "showlakes": true,
           "showland": true,
           "subunitcolor": "white"
          },
          "hoverlabel": {
           "align": "left"
          },
          "hovermode": "closest",
          "mapbox": {
           "style": "light"
          },
          "paper_bgcolor": "white",
          "plot_bgcolor": "#E5ECF6",
          "polar": {
           "angularaxis": {
            "gridcolor": "white",
            "linecolor": "white",
            "ticks": ""
           },
           "bgcolor": "#E5ECF6",
           "radialaxis": {
            "gridcolor": "white",
            "linecolor": "white",
            "ticks": ""
           }
          },
          "scene": {
           "xaxis": {
            "backgroundcolor": "#E5ECF6",
            "gridcolor": "white",
            "gridwidth": 2,
            "linecolor": "white",
            "showbackground": true,
            "ticks": "",
            "zerolinecolor": "white"
           },
           "yaxis": {
            "backgroundcolor": "#E5ECF6",
            "gridcolor": "white",
            "gridwidth": 2,
            "linecolor": "white",
            "showbackground": true,
            "ticks": "",
            "zerolinecolor": "white"
           },
           "zaxis": {
            "backgroundcolor": "#E5ECF6",
            "gridcolor": "white",
            "gridwidth": 2,
            "linecolor": "white",
            "showbackground": true,
            "ticks": "",
            "zerolinecolor": "white"
           }
          },
          "shapedefaults": {
           "line": {
            "color": "#2a3f5f"
           }
          },
          "ternary": {
           "aaxis": {
            "gridcolor": "white",
            "linecolor": "white",
            "ticks": ""
           },
           "baxis": {
            "gridcolor": "white",
            "linecolor": "white",
            "ticks": ""
           },
           "bgcolor": "#E5ECF6",
           "caxis": {
            "gridcolor": "white",
            "linecolor": "white",
            "ticks": ""
           }
          },
          "title": {
           "x": 0.05
          },
          "xaxis": {
           "automargin": true,
           "gridcolor": "white",
           "linecolor": "white",
           "ticks": "",
           "title": {
            "standoff": 15
           },
           "zerolinecolor": "white",
           "zerolinewidth": 2
          },
          "yaxis": {
           "automargin": true,
           "gridcolor": "white",
           "linecolor": "white",
           "ticks": "",
           "title": {
            "standoff": 15
           },
           "zerolinecolor": "white",
           "zerolinewidth": 2
          }
         }
        },
        "xaxis": {
         "anchor": "y",
         "domain": [
          0,
          1
         ],
         "range": [
          "vt",
          "end_time"
         ],
         "type": "date"
        },
        "yaxis": {
         "anchor": "x",
         "categoryarray": [
          "Run",
          "SleepScore",
          "Walk",
          "bpm_4",
          "wake",
          "steps_2",
          "distance_2",
          "bpm_1",
          "bpm_3",
          "calories_4",
          "rem",
          "light",
          "deep",
          "bpm_2",
          "steps_1",
          "distance_1",
          "calories_3"
         ],
         "categoryorder": "array",
         "domain": [
          0,
          1
         ],
         "title": {
          "text": "label"
         }
        }
       }
      }
     },
     "metadata": {},
     "output_type": "display_data"
    }
   ],
   "source": [
    "import plotly.express as px\n",
    "def show_timeline_chart(odf, i):\n",
    "\n",
    "    df = odf[odf[\"i\"] == i].copy()\n",
    "\n",
    "    # Calculate \"end_time\" and \"duration\" for rows where \"vt\" is not zero\n",
    "    mask = df[\"vt\"] != 0\n",
    "    df.loc[mask, \"end_time\"] = df[\"vt\"].shift(-1)\n",
    "    df.loc[mask, \"duration\"] = df[\"end_time\"] - df[\"vt\"]\n",
    "    # For rows where \"vt\" is zero, set \"end_time\" to the next non-zero \"vt\" and \"duration\" to 0\n",
    "    df.loc[~mask, \"end_time\"] = df.loc[mask, \"vt\"].iloc[0]\n",
    "    df.loc[~mask, \"duration\"] = df[\"end_time\"] - df[\"vt\"]\n",
    "\n",
    "    df['vt'] = pd.to_datetime(df['vt'], unit='s')\n",
    "    df['end_time'] = pd.to_datetime(df['end_time'], unit='s')\n",
    "    df.fillna(method='ffill', inplace=True)\n",
    "\n",
    "    data = df\n",
    "    fig = px.timeline(data, x_start=\"vt\", x_end=\"end_time\", y=\"label\", color=\"label\", \n",
    "                      hover_data = \"value\", labels = \"label\", range_x = [\"vt\",\"end_time\"])\n",
    "    fig.update_layout(showlegend=True, legend=dict(title_text=\"Label Legend\", orientation=\"h\", yanchor=\"bottom\", y=1.02, xanchor=\"left\", x=0))\n",
    "    fig.update_traces(marker=dict(line=dict(width=1, color=\"white\")), selector=dict(mode='markers'))\n",
    "\n",
    "    fig.show()\n",
    "\n",
    "show_timeline_chart(final_odf, 85)\n"
   ]
  },
  {
   "cell_type": "markdown",
   "metadata": {},
   "source": [
    "### Data Preprocesing"
   ]
  },
  {
   "cell_type": "code",
   "execution_count": 244,
   "metadata": {},
   "outputs": [
    {
     "name": "stderr",
     "output_type": "stream",
     "text": [
      "/var/folders/km/tq9jcfv91lqb_rwy4mw5cy780000gn/T/ipykernel_3173/1431922604.py:15: FutureWarning:\n",
      "\n",
      "DataFrame.fillna with 'method' is deprecated and will raise in a future version. Use obj.ffill() or obj.bfill() instead.\n",
      "\n"
     ]
    },
    {
     "name": "stdout",
     "output_type": "stream",
     "text": [
      "<class 'pandas.core.frame.DataFrame'>\n",
      "RangeIndex: 7744 entries, 0 to 7743\n",
      "Data columns (total 6 columns):\n",
      " #   Column    Non-Null Count  Dtype          \n",
      "---  ------    --------------  -----          \n",
      " 0   i         7744 non-null   int64          \n",
      " 1   vt        7744 non-null   datetime64[ns] \n",
      " 2   label     7744 non-null   object         \n",
      " 3   value     7744 non-null   float64        \n",
      " 4   end_time  7744 non-null   datetime64[ns] \n",
      " 5   duration  7744 non-null   timedelta64[ns]\n",
      "dtypes: datetime64[ns](2), float64(1), int64(1), object(1), timedelta64[ns](1)\n",
      "memory usage: 363.1+ KB\n",
      "        i                  vt       label    value            end_time  \\\n",
      "0       0 1970-01-01 00:00:00  calories_3  28140.0 1970-01-01 00:00:00   \n",
      "1       0 1970-01-01 00:00:00  distance_1  24480.0 1970-01-01 00:00:00   \n",
      "2       0 1970-01-01 00:00:00     steps_1  24480.0 1970-01-01 00:00:00   \n",
      "3       0 1970-01-01 00:00:00       bpm_2  25260.0 1970-01-01 00:46:00   \n",
      "4       0 1970-01-01 00:46:00       bpm_3  13320.0 1970-01-01 01:28:00   \n",
      "...   ...                 ...         ...      ...                 ...   \n",
      "7739  148 1970-01-01 14:03:00  calories_4  21420.0 1970-01-01 14:25:00   \n",
      "7740  148 1970-01-01 14:25:00       bpm_4  16080.0 1970-01-01 17:25:00   \n",
      "7741  148 1970-01-01 17:25:00  distance_2   6240.0 1970-01-01 17:25:00   \n",
      "7742  148 1970-01-01 17:25:00     steps_2   6240.0 1970-01-01 18:09:00   \n",
      "7743  148 1970-01-01 18:09:00       bpm_1   5220.0 1970-01-01 18:10:00   \n",
      "\n",
      "            duration  \n",
      "0    0 days 00:00:00  \n",
      "1    0 days 00:00:00  \n",
      "2    0 days 00:00:00  \n",
      "3    0 days 00:46:00  \n",
      "4    0 days 00:42:00  \n",
      "...              ...  \n",
      "7739 0 days 00:22:00  \n",
      "7740 0 days 03:00:00  \n",
      "7741 0 days 00:00:00  \n",
      "7742 0 days 00:44:00  \n",
      "7743 0 days 00:01:00  \n",
      "\n",
      "[7744 rows x 6 columns]\n"
     ]
    },
    {
     "data": {
      "text/plain": [
       "(None, None)"
      ]
     },
     "execution_count": 244,
     "metadata": {},
     "output_type": "execute_result"
    }
   ],
   "source": [
    "ddf = final_odf.copy() #[final_odf[\"i\"] == 1].copy()\n",
    "\n",
    "ddf['vt'] = pd.to_datetime(ddf['vt'], unit='s')\n",
    "ddf['end_time'] = pd.to_datetime(ddf['vt'], unit='s')\n",
    "\n",
    "# Calculate \"end_time\" and \"duration\" for rows where \"vt\" is not zero\n",
    "mask = ddf[\"vt\"] != 0\n",
    "ddf.loc[mask, \"end_time\"] = ddf[\"vt\"].shift(-1)\n",
    "ddf.loc[mask, \"duration\"] = ddf[\"end_time\"] - ddf[\"vt\"]\n",
    "\n",
    "# For rows where \"vt\" is zero, set \"end_time\" to the next non-zero \"vt\" and \"duration\" to 0\n",
    "ddf.loc[~mask, \"end_time\"] = ddf.loc[mask, \"vt\"].iloc[0]\n",
    "ddf.loc[~mask, \"duration\"] = ddf[\"end_time\"] - ddf[\"vt\"]\n",
    "\n",
    "ddf.fillna(method='ffill', inplace=True)\n",
    "\n",
    "#putting last i's \"end_time\" one minute after the \"vt\"\n",
    "for unique_i in ddf['i'].unique():\n",
    "    # Create a mask for the specific value of \"i\"\n",
    "    last_row_mask = (ddf['i'] == unique_i) & (ddf.index == ddf[ddf['i'] == unique_i].index[-1])\n",
    "    ddf.loc[last_row_mask, \"end_time\"] = ddf.loc[last_row_mask, \"vt\"]\n",
    "    ddf.loc[last_row_mask, \"end_time\"] += pd.Timedelta(seconds=60)\n",
    "    ddf.loc[last_row_mask, \"duration\"] = ddf[\"end_time\"] - ddf[\"vt\"]\n",
    "\n",
    "\n",
    "ddf.to_csv(\"datasets/fitbit/processed_data/p01_odf.csv\")\n",
    "\n",
    "ddf['end_time'] = pd.to_datetime(ddf['end_time'], unit='s')\n",
    "\n",
    "ddf.info(), print(ddf)\n"
   ]
  },
  {
   "cell_type": "code",
   "execution_count": 2,
   "metadata": {},
   "outputs": [
    {
     "data": {
      "text/html": [
       "<div>\n",
       "<style scoped>\n",
       "    .dataframe tbody tr th:only-of-type {\n",
       "        vertical-align: middle;\n",
       "    }\n",
       "\n",
       "    .dataframe tbody tr th {\n",
       "        vertical-align: top;\n",
       "    }\n",
       "\n",
       "    .dataframe thead th {\n",
       "        text-align: right;\n",
       "    }\n",
       "</style>\n",
       "<table border=\"1\" class=\"dataframe\">\n",
       "  <thead>\n",
       "    <tr style=\"text-align: right;\">\n",
       "      <th></th>\n",
       "      <th>Unnamed: 0</th>\n",
       "      <th>sequence</th>\n",
       "      <th>class</th>\n",
       "    </tr>\n",
       "  </thead>\n",
       "  <tbody>\n",
       "    <tr>\n",
       "      <th>0</th>\n",
       "      <td>0</td>\n",
       "      <td>[(0.0, 'calories_3', 28140.0), (0.0, 'distance...</td>\n",
       "      <td>True</td>\n",
       "    </tr>\n",
       "    <tr>\n",
       "      <th>1</th>\n",
       "      <td>1</td>\n",
       "      <td>[(0.0, 'calories_3', 26760.0), (0.0, 'distance...</td>\n",
       "      <td>False</td>\n",
       "    </tr>\n",
       "    <tr>\n",
       "      <th>2</th>\n",
       "      <td>2</td>\n",
       "      <td>[(0.0, 'calories_4', 14160.0), (0.0, 'distance...</td>\n",
       "      <td>False</td>\n",
       "    </tr>\n",
       "    <tr>\n",
       "      <th>3</th>\n",
       "      <td>3</td>\n",
       "      <td>[(0.0, 'calories_4', 9000.0), (0.0, 'distance_...</td>\n",
       "      <td>True</td>\n",
       "    </tr>\n",
       "    <tr>\n",
       "      <th>4</th>\n",
       "      <td>4</td>\n",
       "      <td>[(0.0, 'calories_3', 23640.0), (0.0, 'distance...</td>\n",
       "      <td>False</td>\n",
       "    </tr>\n",
       "    <tr>\n",
       "      <th>...</th>\n",
       "      <td>...</td>\n",
       "      <td>...</td>\n",
       "      <td>...</td>\n",
       "    </tr>\n",
       "    <tr>\n",
       "      <th>144</th>\n",
       "      <td>144</td>\n",
       "      <td>[(0.0, 'calories_3', 30660.0), (0.0, 'distance...</td>\n",
       "      <td>False</td>\n",
       "    </tr>\n",
       "    <tr>\n",
       "      <th>145</th>\n",
       "      <td>145</td>\n",
       "      <td>[(0.0, 'calories_3', 31380.0), (0.0, 'distance...</td>\n",
       "      <td>True</td>\n",
       "    </tr>\n",
       "    <tr>\n",
       "      <th>146</th>\n",
       "      <td>146</td>\n",
       "      <td>[(0.0, 'calories_4', 540.0), (0.0, 'distance_1...</td>\n",
       "      <td>True</td>\n",
       "    </tr>\n",
       "    <tr>\n",
       "      <th>147</th>\n",
       "      <td>147</td>\n",
       "      <td>[(0.0, 'calories_3', 35280.0), (0.0, 'distance...</td>\n",
       "      <td>False</td>\n",
       "    </tr>\n",
       "    <tr>\n",
       "      <th>148</th>\n",
       "      <td>148</td>\n",
       "      <td>[(0.0, 'calories_4', 19080.0), (0.0, 'distance...</td>\n",
       "      <td>False</td>\n",
       "    </tr>\n",
       "  </tbody>\n",
       "</table>\n",
       "<p>149 rows × 3 columns</p>\n",
       "</div>"
      ],
      "text/plain": [
       "     Unnamed: 0                                           sequence  class\n",
       "0             0  [(0.0, 'calories_3', 28140.0), (0.0, 'distance...   True\n",
       "1             1  [(0.0, 'calories_3', 26760.0), (0.0, 'distance...  False\n",
       "2             2  [(0.0, 'calories_4', 14160.0), (0.0, 'distance...  False\n",
       "3             3  [(0.0, 'calories_4', 9000.0), (0.0, 'distance_...   True\n",
       "4             4  [(0.0, 'calories_3', 23640.0), (0.0, 'distance...  False\n",
       "..          ...                                                ...    ...\n",
       "144         144  [(0.0, 'calories_3', 30660.0), (0.0, 'distance...  False\n",
       "145         145  [(0.0, 'calories_3', 31380.0), (0.0, 'distance...   True\n",
       "146         146  [(0.0, 'calories_4', 540.0), (0.0, 'distance_1...   True\n",
       "147         147  [(0.0, 'calories_3', 35280.0), (0.0, 'distance...  False\n",
       "148         148  [(0.0, 'calories_4', 19080.0), (0.0, 'distance...  False\n",
       "\n",
       "[149 rows x 3 columns]"
      ]
     },
     "execution_count": 2,
     "metadata": {},
     "output_type": "execute_result"
    }
   ],
   "source": [
    "import pandas as pd\n",
    "pd.read_csv(\"p01.csv\")"
   ]
  },
  {
   "cell_type": "code",
   "execution_count": null,
   "metadata": {},
   "outputs": [],
   "source": []
  }
 ],
 "metadata": {
  "kernelspec": {
   "display_name": "base",
   "language": "python",
   "name": "python3"
  },
  "language_info": {
   "codemirror_mode": {
    "name": "ipython",
    "version": 3
   },
   "file_extension": ".py",
   "mimetype": "text/x-python",
   "name": "python",
   "nbconvert_exporter": "python",
   "pygments_lexer": "ipython3",
   "version": "3.11.5"
  }
 },
 "nbformat": 4,
 "nbformat_minor": 2
}
