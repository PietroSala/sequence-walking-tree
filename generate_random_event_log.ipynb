{
 "cells": [
  {
   "cell_type": "markdown",
   "metadata": {},
   "source": [
    "### Random Shuffling Function"
   ]
  },
  {
   "cell_type": "code",
   "execution_count": null,
   "metadata": {},
   "outputs": [],
   "source": [
    "import pandas as pd\n",
    "\n",
    "original_df = pd.read_csv(\"processed_data/sequences/reuters_eventlogs.csv\")\n",
    "original_df\n"
   ]
  },
  {
   "cell_type": "code",
   "execution_count": null,
   "metadata": {},
   "outputs": [],
   "source": [
    "lists = original_df.groupby('I').apply(lambda group: [tuple(row)[1:4] for row in group.itertuples(index=False)]).to_list()\n",
    "for l in lists:\n",
    "    l.sort(key=lambda x: x[0])"
   ]
  },
  {
   "cell_type": "code",
   "execution_count": null,
   "metadata": {},
   "outputs": [],
   "source": [
    "from random import choice\n",
    "\n",
    "def random_from_lists(lists, random_length = True):\n",
    "    length = len(lists)\n",
    "    r = []\n",
    "    j = 0\n",
    "    selected_length = len(lists[choice(range(length))])\n",
    "    while True:\n",
    "        if (random_length and j >= selected_length):\n",
    "            break\n",
    "        i = choice(range(length))\n",
    "        if j < len(lists[i]) :\n",
    "            if j == 0:\n",
    "                r.append(lists[i][j])\n",
    "            else:\n",
    "                r.append((r[j - 1][0] + (lists[i][j][0] - lists[i][j-1][0]), lists[i][j][1], lists[i][j][2]))  \n",
    "            j = j + 1   \n",
    "        else:\n",
    "            if not random_length:\n",
    "                break\n",
    "    return r         "
   ]
  },
  {
   "cell_type": "code",
   "execution_count": null,
   "metadata": {},
   "outputs": [],
   "source": [
    "pd.Series([len(random_from_lists(lists)) for _ in range(len(lists))]).describe()"
   ]
  },
  {
   "cell_type": "code",
   "execution_count": null,
   "metadata": {},
   "outputs": [],
   "source": [
    "pd.Series([len(l) for l in lists ]).describe()"
   ]
  },
  {
   "cell_type": "code",
   "execution_count": null,
   "metadata": {},
   "outputs": [],
   "source": [
    "event_log = random_from_lists(lists)\n",
    "event_log"
   ]
  },
  {
   "cell_type": "markdown",
   "metadata": {},
   "source": [
    "### recompute_values_according_to_labels"
   ]
  },
  {
   "cell_type": "code",
   "execution_count": null,
   "metadata": {},
   "outputs": [],
   "source": [
    "def recompute_values_according_to_labels(event_log, type=\"Remaining\"):\n",
    "    result = []\n",
    "\n",
    "    for i, data, _ in event_log:\n",
    "        remaining_count = 0\n",
    "        total_occurrences = 0\n",
    "\n",
    "        for _ , other_data, _ in event_log[i + 1:]:\n",
    "            if other_data == data:\n",
    "                remaining_count += 1\n",
    "                total_occurrences = remaining_count + 1\n",
    "\n",
    "        if type == \"Remaining\":\n",
    "            result.append((i, data, remaining_count))\n",
    "        elif type == \"Percentage_Alpha\":\n",
    "            total_remaining = len(event_log[i + 1:])\n",
    "            percentage_count = 0 if total_remaining == 0 else remaining_count / total_remaining\n",
    "            result.append((i, data, percentage_count))\n",
    "        elif type == \"Percentage_Beta\":\n",
    "            count_value = 0 if total_occurrences == 0 else remaining_count / total_occurrences\n",
    "            result.append((i, data, count_value))\n",
    "        else:\n",
    "            raise ValueError(\"Invalid type. Use 'Remaining', 'Percentage_Alpha', or 'Percentage_Beta'.\")\n",
    "\n",
    "    return result\n"
   ]
  },
  {
   "cell_type": "code",
   "execution_count": null,
   "metadata": {},
   "outputs": [],
   "source": [
    "#Example Usage\n",
    "\n",
    "# Using type=\"Remaining\"\n",
    "result_remaining = recompute_values_according_to_labels(event_log, type=\"Remaining\")\n",
    "print(\"Result (Remaining):\", result_remaining)\n",
    "\n",
    "# Using type=\"Percentage_Alpha\"\n",
    "result_percentage_alpha = recompute_values_according_to_labels(event_log, type=\"Percentage_Alpha\")\n",
    "print(\"Result (Percentage_Alpha):\", result_percentage_alpha)\n",
    "\n",
    "# Using type=\"Percentage_Beta\"\n",
    "result_percentage_beta = recompute_values_according_to_labels(event_log, type=\"Percentage_Beta\")\n",
    "print(\"Result (Percentage_Beta):\", result_percentage_beta)"
   ]
  }
 ],
 "metadata": {
  "kernelspec": {
   "display_name": "base",
   "language": "python",
   "name": "python3"
  },
  "language_info": {
   "codemirror_mode": {
    "name": "ipython",
    "version": 3
   },
   "file_extension": ".py",
   "mimetype": "text/x-python",
   "name": "python",
   "nbconvert_exporter": "python",
   "pygments_lexer": "ipython3",
   "version": "3.11.5"
  },
  "orig_nbformat": 4
 },
 "nbformat": 4,
 "nbformat_minor": 2
}
